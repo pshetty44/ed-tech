{
 "cells": [
  {
   "cell_type": "code",
   "execution_count": 411,
   "metadata": {},
   "outputs": [],
   "source": [
    "import pandas as pd\n",
    "import numpy as np\n",
    "import pandasql as ps\n",
    "from scipy.stats import ttest_ind\n",
    "from imblearn.over_sampling import SMOTE\n",
    "from collections import Counter\n",
    "from imblearn.under_sampling import RandomUnderSampler\n",
    "from imblearn.pipeline import Pipeline\n",
    "from sklearn import preprocessing\n",
    "from sklearn.model_selection import train_test_split\n",
    "from sklearn.linear_model import LogisticRegression\n",
    "from sklearn.metrics import confusion_matrix\n",
    "from sklearn.metrics import recall_score\n",
    "from sklearn.metrics import precision_score\n",
    "from sklearn.ensemble import RandomForestClassifier\n",
    "from sklearn import svm\n",
    "from xgboost import XGBClassifier"
   ]
  },
  {
   "cell_type": "code",
   "execution_count": 85,
   "metadata": {},
   "outputs": [],
   "source": [
    "df = pd.read_csv (r'HXPC13_DI_v3_11-13-2019.csv')"
   ]
  },
  {
   "cell_type": "code",
   "execution_count": 3,
   "metadata": {},
   "outputs": [
    {
     "data": {
      "text/html": [
       "<div>\n",
       "<style scoped>\n",
       "    .dataframe tbody tr th:only-of-type {\n",
       "        vertical-align: middle;\n",
       "    }\n",
       "\n",
       "    .dataframe tbody tr th {\n",
       "        vertical-align: top;\n",
       "    }\n",
       "\n",
       "    .dataframe thead th {\n",
       "        text-align: right;\n",
       "    }\n",
       "</style>\n",
       "<table border=\"1\" class=\"dataframe\">\n",
       "  <thead>\n",
       "    <tr style=\"text-align: right;\">\n",
       "      <th></th>\n",
       "      <th>course_id</th>\n",
       "      <th>userid_DI</th>\n",
       "      <th>registered</th>\n",
       "      <th>viewed</th>\n",
       "      <th>explored</th>\n",
       "      <th>certified</th>\n",
       "      <th>final_cc_cname_DI</th>\n",
       "      <th>LoE_DI</th>\n",
       "      <th>YoB</th>\n",
       "      <th>gender</th>\n",
       "      <th>grade</th>\n",
       "      <th>start_time_DI</th>\n",
       "      <th>last_event_DI</th>\n",
       "      <th>nevents</th>\n",
       "      <th>ndays_act</th>\n",
       "      <th>nplay_video</th>\n",
       "      <th>nchapters</th>\n",
       "      <th>nforum_posts</th>\n",
       "      <th>roles</th>\n",
       "      <th>incomplete_flag</th>\n",
       "    </tr>\n",
       "  </thead>\n",
       "  <tbody>\n",
       "    <tr>\n",
       "      <th>0</th>\n",
       "      <td>HarvardX/CB22x/2013_Spring</td>\n",
       "      <td>MHxPC130442623</td>\n",
       "      <td>1</td>\n",
       "      <td>0</td>\n",
       "      <td>0</td>\n",
       "      <td>0</td>\n",
       "      <td>United States</td>\n",
       "      <td>NaN</td>\n",
       "      <td>NaN</td>\n",
       "      <td>NaN</td>\n",
       "      <td>0</td>\n",
       "      <td>12/19/12</td>\n",
       "      <td>11/17/13</td>\n",
       "      <td>NaN</td>\n",
       "      <td>9.0</td>\n",
       "      <td>NaN</td>\n",
       "      <td>NaN</td>\n",
       "      <td>0</td>\n",
       "      <td>NaN</td>\n",
       "      <td>1.0</td>\n",
       "    </tr>\n",
       "    <tr>\n",
       "      <th>1</th>\n",
       "      <td>HarvardX/CB22x/2013_Spring</td>\n",
       "      <td>MHxPC130275857</td>\n",
       "      <td>1</td>\n",
       "      <td>0</td>\n",
       "      <td>0</td>\n",
       "      <td>0</td>\n",
       "      <td>United States</td>\n",
       "      <td>NaN</td>\n",
       "      <td>NaN</td>\n",
       "      <td>NaN</td>\n",
       "      <td>0</td>\n",
       "      <td>2/8/13</td>\n",
       "      <td>11/17/13</td>\n",
       "      <td>NaN</td>\n",
       "      <td>16.0</td>\n",
       "      <td>NaN</td>\n",
       "      <td>NaN</td>\n",
       "      <td>0</td>\n",
       "      <td>NaN</td>\n",
       "      <td>1.0</td>\n",
       "    </tr>\n",
       "    <tr>\n",
       "      <th>2</th>\n",
       "      <td>HarvardX/CB22x/2013_Spring</td>\n",
       "      <td>MHxPC130539455</td>\n",
       "      <td>1</td>\n",
       "      <td>1</td>\n",
       "      <td>0</td>\n",
       "      <td>0</td>\n",
       "      <td>France</td>\n",
       "      <td>NaN</td>\n",
       "      <td>NaN</td>\n",
       "      <td>NaN</td>\n",
       "      <td>0</td>\n",
       "      <td>1/1/13</td>\n",
       "      <td>5/14/13</td>\n",
       "      <td>42.0</td>\n",
       "      <td>6.0</td>\n",
       "      <td>NaN</td>\n",
       "      <td>3.0</td>\n",
       "      <td>0</td>\n",
       "      <td>NaN</td>\n",
       "      <td>NaN</td>\n",
       "    </tr>\n",
       "    <tr>\n",
       "      <th>3</th>\n",
       "      <td>HarvardX/CB22x/2013_Spring</td>\n",
       "      <td>MHxPC130088379</td>\n",
       "      <td>1</td>\n",
       "      <td>1</td>\n",
       "      <td>0</td>\n",
       "      <td>0</td>\n",
       "      <td>United States</td>\n",
       "      <td>NaN</td>\n",
       "      <td>NaN</td>\n",
       "      <td>NaN</td>\n",
       "      <td>0</td>\n",
       "      <td>2/18/13</td>\n",
       "      <td>3/17/13</td>\n",
       "      <td>70.0</td>\n",
       "      <td>3.0</td>\n",
       "      <td>NaN</td>\n",
       "      <td>3.0</td>\n",
       "      <td>0</td>\n",
       "      <td>NaN</td>\n",
       "      <td>NaN</td>\n",
       "    </tr>\n",
       "    <tr>\n",
       "      <th>4</th>\n",
       "      <td>HarvardX/CB22x/2013_Spring</td>\n",
       "      <td>MHxPC130024894</td>\n",
       "      <td>1</td>\n",
       "      <td>1</td>\n",
       "      <td>0</td>\n",
       "      <td>0</td>\n",
       "      <td>United States</td>\n",
       "      <td>NaN</td>\n",
       "      <td>NaN</td>\n",
       "      <td>NaN</td>\n",
       "      <td>0.07</td>\n",
       "      <td>1/24/13</td>\n",
       "      <td>8/3/13</td>\n",
       "      <td>175.0</td>\n",
       "      <td>9.0</td>\n",
       "      <td>NaN</td>\n",
       "      <td>7.0</td>\n",
       "      <td>0</td>\n",
       "      <td>NaN</td>\n",
       "      <td>NaN</td>\n",
       "    </tr>\n",
       "  </tbody>\n",
       "</table>\n",
       "</div>"
      ],
      "text/plain": [
       "                    course_id       userid_DI  registered  viewed  explored  \\\n",
       "0  HarvardX/CB22x/2013_Spring  MHxPC130442623           1       0         0   \n",
       "1  HarvardX/CB22x/2013_Spring  MHxPC130275857           1       0         0   \n",
       "2  HarvardX/CB22x/2013_Spring  MHxPC130539455           1       1         0   \n",
       "3  HarvardX/CB22x/2013_Spring  MHxPC130088379           1       1         0   \n",
       "4  HarvardX/CB22x/2013_Spring  MHxPC130024894           1       1         0   \n",
       "\n",
       "   certified final_cc_cname_DI LoE_DI  YoB gender grade start_time_DI  \\\n",
       "0          0     United States    NaN  NaN    NaN     0      12/19/12   \n",
       "1          0     United States    NaN  NaN    NaN     0        2/8/13   \n",
       "2          0            France    NaN  NaN    NaN     0        1/1/13   \n",
       "3          0     United States    NaN  NaN    NaN     0       2/18/13   \n",
       "4          0     United States    NaN  NaN    NaN  0.07       1/24/13   \n",
       "\n",
       "  last_event_DI  nevents  ndays_act  nplay_video  nchapters  nforum_posts  \\\n",
       "0      11/17/13      NaN        9.0          NaN        NaN             0   \n",
       "1      11/17/13      NaN       16.0          NaN        NaN             0   \n",
       "2       5/14/13     42.0        6.0          NaN        3.0             0   \n",
       "3       3/17/13     70.0        3.0          NaN        3.0             0   \n",
       "4        8/3/13    175.0        9.0          NaN        7.0             0   \n",
       "\n",
       "   roles  incomplete_flag  \n",
       "0    NaN              1.0  \n",
       "1    NaN              1.0  \n",
       "2    NaN              NaN  \n",
       "3    NaN              NaN  \n",
       "4    NaN              NaN  "
      ]
     },
     "execution_count": 3,
     "metadata": {},
     "output_type": "execute_result"
    }
   ],
   "source": [
    "df.head(5)"
   ]
  },
  {
   "cell_type": "markdown",
   "metadata": {},
   "source": [
    "### Descriptive statistics"
   ]
  },
  {
   "cell_type": "code",
   "execution_count": 4,
   "metadata": {},
   "outputs": [
    {
     "data": {
      "image/png": "[encoded data removed]",
      "text/plain": [
       "<Figure size 432x288 with 1 Axes>"
      ]
     },
     "metadata": {
      "needs_background": "light"
     },
     "output_type": "display_data"
    }
   ],
   "source": [
    "df_gender = df.groupby(['gender','certified'])['course_id'].count().unstack().head(2)\n",
    "gender_plot = df_gender.plot(kind='bar',stacked=True,title=\"Persistence by gender\",rot=0)\n",
    "gender_plot.set_xlabel(\"Gender\")\n",
    "gender_plot.set_ylabel(\"No of students\")\n",
    "gender_plot.set_ylim((80000, 250000))\n",
    "gender_plot.legend([\"Not persisted\",\"Persisted\"]);"
   ]
  },
  {
   "cell_type": "code",
   "execution_count": 5,
   "metadata": {},
   "outputs": [
    {
     "data": {
      "image/png": "[encoded data removed]",
      "text/plain": [
       "<Figure size 432x288 with 1 Axes>"
      ]
     },
     "metadata": {
      "needs_background": "light"
     },
     "output_type": "display_data"
    }
   ],
   "source": [
    "#add age column\n",
    "df['age'] = 2013- df['YoB']\n",
    "#add age bucket\n",
    "df.loc[((df['age'] >= 15) & (df['age'] <= 25) ), 'age_bucket'] = '15_and_25'\n",
    "df.loc[((df['age'] > 25) & (df['age'] <= 35) ), 'age_bucket'] = '25_and_35'\n",
    "df.loc[((df['age'] > 35) & (df['age'] <= 50) ), 'age_bucket'] = '35_and_50'\n",
    "df.loc[((df['age'] > 51) & (df['age'] <= 75) ), 'age_bucket'] = '51_and_75'\n",
    "\n",
    "#plot\n",
    "df_age = df.groupby(['age_bucket','certified'])['course_id'].count().unstack()\n",
    "age_plot = df_age.plot(kind='bar',stacked=True,title=\"Persistence by major age groups\",rot=45)\n",
    "age_plot.set_xlabel(\"Age\")\n",
    "age_plot.set_ylabel(\"No of students\")\n",
    "#age_plot.set_ylim((1000, 250000))\n",
    "age_plot.legend([\"Not persisted\",\"Persisted\"]);"
   ]
  },
  {
   "cell_type": "code",
   "execution_count": 6,
   "metadata": {},
   "outputs": [
    {
     "data": {
      "image/png": "[encoded data removed]",
      "text/plain": [
       "<Figure size 432x288 with 1 Axes>"
      ]
     },
     "metadata": {
      "needs_background": "light"
     },
     "output_type": "display_data"
    }
   ],
   "source": [
    "#Top countries by student registration\n",
    "df_country = df.loc[df['final_cc_cname_DI'].isin(['United States','India','Other Europe','Other Africa','United Kingdom'\n",
    "                                                 ,'Brazil','Canada','Other Middle East/Central Asia'\n",
    "                                                 ,'Other South Asia\t','Nigeria','Spain','Pakistan'\n",
    "                                                 ,'Other South America','Australia'])]\n",
    "#group by countries\n",
    "df_country = df_country.groupby(['final_cc_cname_DI'])['course_id'].count()\n",
    "#sort\n",
    "df_country = df_country.reset_index().sort_values('course_id', ascending=False)\\\n",
    "                        .set_index('final_cc_cname_DI')\n",
    "#plot\n",
    "country_plot = df_country.plot(kind='bar',stacked=True,title=\"Students by top countries\",rot=90,legend=False);\n",
    "country_plot.set_xlabel(\"Country\")\n",
    "country_plot.set_ylabel(\"No of students\");"
   ]
  },
  {
   "cell_type": "code",
   "execution_count": 7,
   "metadata": {},
   "outputs": [
    {
     "data": {
      "image/png": "[encoded data removed]",
      "text/plain": [
       "<Figure size 432x288 with 1 Axes>"
      ]
     },
     "metadata": {
      "needs_background": "light"
     },
     "output_type": "display_data"
    }
   ],
   "source": [
    "df_loe = df.groupby(['LoE_DI','certified'])['course_id'].count().unstack()\n",
    "loe_plot = df_loe.plot(kind='bar',stacked=True,title=\"Persistence by level of education\",rot=90)\n",
    "loe_plot.set_xlabel(\"Level of Education\")\n",
    "loe_plot.set_ylabel(\"No of students\")\n",
    "#loe_plot.set_ylim((10000, 250000))\n",
    "loe_plot.legend([\"Not persisted\",\"Persisted\"]);"
   ]
  },
  {
   "cell_type": "code",
   "execution_count": 8,
   "metadata": {},
   "outputs": [
    {
     "data": {
      "image/png": "[encoded data removed]",
      "text/plain": [
       "<Figure size 432x288 with 1 Axes>"
      ]
     },
     "metadata": {
      "needs_background": "light"
     },
     "output_type": "display_data"
    }
   ],
   "source": [
    "#student activity\n",
    "registered = df[df['registered']==1]['course_id'].count()\n",
    "viewed = df[df['viewed']==1]['course_id'].count()\n",
    "explored = df[df['explored']==1]['course_id'].count()\n",
    "persisted = df[df['certified']==1]['course_id'].count()\n",
    "\n",
    "#build df\n",
    "df_progress = pd.DataFrame([['Registered',registered],\n",
    "               ['Viewed',viewed],\n",
    "               ['Explored',explored],\n",
    "              ['Persisted',persisted]], columns=\n",
    "['student_progress', 'count'])\n",
    "\n",
    "#set index\n",
    "df_progress = df_progress.set_index('student_progress')\n",
    "\n",
    "#plot\n",
    "progress_plot = df_progress.plot(kind='bar',stacked=True,title=\"Student activity\",rot=90,legend=False);\n",
    "progress_plot.set_xlabel(\"Activity\")\n",
    "progress_plot.set_ylabel(\"No of students\");"
   ]
  },
  {
   "cell_type": "code",
   "execution_count": 9,
   "metadata": {},
   "outputs": [
    {
     "data": {
      "image/png": "[encoded data removed]",
      "text/plain": [
       "<Figure size 432x288 with 1 Axes>"
      ]
     },
     "metadata": {
      "needs_background": "light"
     },
     "output_type": "display_data"
    }
   ],
   "source": [
    "#student activity\n",
    "#nevents = df['nevents'].sum()\n",
    "ndays_act = df['ndays_act'].sum()\n",
    "nplay_video = df['nplay_video'].sum()\n",
    "nchapters = df['nchapters'].sum()\n",
    "nforum_posts = df['nforum_posts'].sum()\n",
    "\n",
    "#build df\n",
    "df_activity_progress = pd.DataFrame([\n",
    "               ['ndays_act',ndays_act],\n",
    "               ['nplay_video',nplay_video],\n",
    "              ['nchapters',nchapters],\n",
    "              ['nforum_posts',nforum_posts]],            \n",
    "            columns= ['student_activity_progress', 'count'])\n",
    "\n",
    "#set index\n",
    "df_activity_progress = df_activity_progress.set_index('student_activity_progress')\n",
    "\n",
    "#plot\n",
    "activity_progress_plot = df_activity_progress.plot(kind='bar',stacked=True,title=\"Student detailed activity\",rot=90,legend=False);\n",
    "activity_progress_plot.set_xlabel(\"Activity\")\n",
    "activity_progress_plot.set_ylabel(\"No of activities\");"
   ]
  },
  {
   "cell_type": "markdown",
   "metadata": {},
   "source": [
    "### Key feature statistics"
   ]
  },
  {
   "cell_type": "code",
   "execution_count": 10,
   "metadata": {},
   "outputs": [
    {
     "data": {
      "text/plain": [
       "count    299719.000000\n",
       "mean         28.955275\n",
       "std           9.603730\n",
       "min           0.000000\n",
       "25%          22.000000\n",
       "50%          27.000000\n",
       "75%          33.000000\n",
       "max          82.000000\n",
       "Name: age, dtype: float64"
      ]
     },
     "execution_count": 10,
     "metadata": {},
     "output_type": "execute_result"
    }
   ],
   "source": [
    "df['age'].describe()"
   ]
  },
  {
   "cell_type": "code",
   "execution_count": 11,
   "metadata": {},
   "outputs": [
    {
     "data": {
      "text/plain": [
       "count    178945.000000\n",
       "mean        231.992702\n",
       "std         939.101311\n",
       "min           1.000000\n",
       "25%           3.000000\n",
       "50%          17.000000\n",
       "75%          95.000000\n",
       "max       43880.000000\n",
       "Name: nevents, dtype: float64"
      ]
     },
     "execution_count": 11,
     "metadata": {},
     "output_type": "execute_result"
    }
   ],
   "source": [
    "df['nevents'].describe()"
   ]
  },
  {
   "cell_type": "code",
   "execution_count": 12,
   "metadata": {},
   "outputs": [
    {
     "data": {
      "text/plain": [
       "count    33277.000000\n",
       "mean       146.964179\n",
       "std        518.468002\n",
       "min          1.000000\n",
       "25%          4.000000\n",
       "50%         17.000000\n",
       "75%         74.000000\n",
       "max      34596.000000\n",
       "Name: nplay_video, dtype: float64"
      ]
     },
     "execution_count": 12,
     "metadata": {},
     "output_type": "execute_result"
    }
   ],
   "source": [
    "df['nplay_video'].describe()"
   ]
  },
  {
   "cell_type": "code",
   "execution_count": 13,
   "metadata": {},
   "outputs": [
    {
     "data": {
      "text/plain": [
       "count    193758.000000\n",
       "mean          3.487727\n",
       "std           4.720403\n",
       "min           1.000000\n",
       "25%           1.000000\n",
       "50%           2.000000\n",
       "75%           3.000000\n",
       "max          34.000000\n",
       "Name: nchapters, dtype: float64"
      ]
     },
     "execution_count": 13,
     "metadata": {},
     "output_type": "execute_result"
    }
   ],
   "source": [
    "df['nchapters'].describe()"
   ]
  },
  {
   "cell_type": "markdown",
   "metadata": {},
   "source": [
    "### Feature correlation"
   ]
  },
  {
   "cell_type": "code",
   "execution_count": 14,
   "metadata": {},
   "outputs": [
    {
     "data": {
      "text/html": [
       "<div>\n",
       "<style scoped>\n",
       "    .dataframe tbody tr th:only-of-type {\n",
       "        vertical-align: middle;\n",
       "    }\n",
       "\n",
       "    .dataframe tbody tr th {\n",
       "        vertical-align: top;\n",
       "    }\n",
       "\n",
       "    .dataframe thead th {\n",
       "        text-align: right;\n",
       "    }\n",
       "</style>\n",
       "<table border=\"1\" class=\"dataframe\">\n",
       "  <thead>\n",
       "    <tr style=\"text-align: right;\">\n",
       "      <th></th>\n",
       "      <th>registered</th>\n",
       "      <th>viewed</th>\n",
       "      <th>explored</th>\n",
       "      <th>certified</th>\n",
       "      <th>YoB</th>\n",
       "      <th>nevents</th>\n",
       "      <th>ndays_act</th>\n",
       "      <th>nplay_video</th>\n",
       "      <th>nchapters</th>\n",
       "      <th>nforum_posts</th>\n",
       "      <th>roles</th>\n",
       "      <th>incomplete_flag</th>\n",
       "      <th>age</th>\n",
       "    </tr>\n",
       "  </thead>\n",
       "  <tbody>\n",
       "    <tr>\n",
       "      <th>registered</th>\n",
       "      <td>NaN</td>\n",
       "      <td>NaN</td>\n",
       "      <td>NaN</td>\n",
       "      <td>NaN</td>\n",
       "      <td>NaN</td>\n",
       "      <td>NaN</td>\n",
       "      <td>NaN</td>\n",
       "      <td>NaN</td>\n",
       "      <td>NaN</td>\n",
       "      <td>NaN</td>\n",
       "      <td>NaN</td>\n",
       "      <td>NaN</td>\n",
       "      <td>NaN</td>\n",
       "    </tr>\n",
       "    <tr>\n",
       "      <th>viewed</th>\n",
       "      <td>NaN</td>\n",
       "      <td>1.000000</td>\n",
       "      <td>0.219908</td>\n",
       "      <td>0.121460</td>\n",
       "      <td>-0.006711</td>\n",
       "      <td>0.151474</td>\n",
       "      <td>0.194616</td>\n",
       "      <td>0.001522</td>\n",
       "      <td>0.021805</td>\n",
       "      <td>0.064513</td>\n",
       "      <td>NaN</td>\n",
       "      <td>NaN</td>\n",
       "      <td>0.006711</td>\n",
       "    </tr>\n",
       "    <tr>\n",
       "      <th>explored</th>\n",
       "      <td>NaN</td>\n",
       "      <td>0.219908</td>\n",
       "      <td>1.000000</td>\n",
       "      <td>0.504517</td>\n",
       "      <td>-0.004783</td>\n",
       "      <td>0.453486</td>\n",
       "      <td>0.545108</td>\n",
       "      <td>0.416503</td>\n",
       "      <td>0.757574</td>\n",
       "      <td>0.065524</td>\n",
       "      <td>NaN</td>\n",
       "      <td>NaN</td>\n",
       "      <td>0.004783</td>\n",
       "    </tr>\n",
       "    <tr>\n",
       "      <th>certified</th>\n",
       "      <td>NaN</td>\n",
       "      <td>0.121460</td>\n",
       "      <td>0.504517</td>\n",
       "      <td>1.000000</td>\n",
       "      <td>-0.000931</td>\n",
       "      <td>0.496904</td>\n",
       "      <td>0.551765</td>\n",
       "      <td>0.366351</td>\n",
       "      <td>0.579548</td>\n",
       "      <td>0.076593</td>\n",
       "      <td>NaN</td>\n",
       "      <td>NaN</td>\n",
       "      <td>0.000931</td>\n",
       "    </tr>\n",
       "    <tr>\n",
       "      <th>YoB</th>\n",
       "      <td>NaN</td>\n",
       "      <td>-0.006711</td>\n",
       "      <td>-0.004783</td>\n",
       "      <td>-0.000931</td>\n",
       "      <td>1.000000</td>\n",
       "      <td>-0.042212</td>\n",
       "      <td>-0.058725</td>\n",
       "      <td>-0.041638</td>\n",
       "      <td>-0.035461</td>\n",
       "      <td>0.022356</td>\n",
       "      <td>NaN</td>\n",
       "      <td>NaN</td>\n",
       "      <td>-1.000000</td>\n",
       "    </tr>\n",
       "    <tr>\n",
       "      <th>nevents</th>\n",
       "      <td>NaN</td>\n",
       "      <td>0.151474</td>\n",
       "      <td>0.453486</td>\n",
       "      <td>0.496904</td>\n",
       "      <td>-0.042212</td>\n",
       "      <td>1.000000</td>\n",
       "      <td>0.718681</td>\n",
       "      <td>0.814174</td>\n",
       "      <td>0.444501</td>\n",
       "      <td>0.087138</td>\n",
       "      <td>NaN</td>\n",
       "      <td>NaN</td>\n",
       "      <td>0.042212</td>\n",
       "    </tr>\n",
       "    <tr>\n",
       "      <th>ndays_act</th>\n",
       "      <td>NaN</td>\n",
       "      <td>0.194616</td>\n",
       "      <td>0.545108</td>\n",
       "      <td>0.551765</td>\n",
       "      <td>-0.058725</td>\n",
       "      <td>0.718681</td>\n",
       "      <td>1.000000</td>\n",
       "      <td>0.625898</td>\n",
       "      <td>0.607456</td>\n",
       "      <td>0.102466</td>\n",
       "      <td>NaN</td>\n",
       "      <td>NaN</td>\n",
       "      <td>0.058725</td>\n",
       "    </tr>\n",
       "    <tr>\n",
       "      <th>nplay_video</th>\n",
       "      <td>NaN</td>\n",
       "      <td>0.001522</td>\n",
       "      <td>0.416503</td>\n",
       "      <td>0.366351</td>\n",
       "      <td>-0.041638</td>\n",
       "      <td>0.814174</td>\n",
       "      <td>0.625898</td>\n",
       "      <td>1.000000</td>\n",
       "      <td>0.500819</td>\n",
       "      <td>0.075744</td>\n",
       "      <td>NaN</td>\n",
       "      <td>NaN</td>\n",
       "      <td>0.041638</td>\n",
       "    </tr>\n",
       "    <tr>\n",
       "      <th>nchapters</th>\n",
       "      <td>NaN</td>\n",
       "      <td>0.021805</td>\n",
       "      <td>0.757574</td>\n",
       "      <td>0.579548</td>\n",
       "      <td>-0.035461</td>\n",
       "      <td>0.444501</td>\n",
       "      <td>0.607456</td>\n",
       "      <td>0.500819</td>\n",
       "      <td>1.000000</td>\n",
       "      <td>0.133339</td>\n",
       "      <td>NaN</td>\n",
       "      <td>NaN</td>\n",
       "      <td>0.035461</td>\n",
       "    </tr>\n",
       "    <tr>\n",
       "      <th>nforum_posts</th>\n",
       "      <td>NaN</td>\n",
       "      <td>0.064513</td>\n",
       "      <td>0.065524</td>\n",
       "      <td>0.076593</td>\n",
       "      <td>0.022356</td>\n",
       "      <td>0.087138</td>\n",
       "      <td>0.102466</td>\n",
       "      <td>0.075744</td>\n",
       "      <td>0.133339</td>\n",
       "      <td>1.000000</td>\n",
       "      <td>NaN</td>\n",
       "      <td>NaN</td>\n",
       "      <td>-0.022356</td>\n",
       "    </tr>\n",
       "    <tr>\n",
       "      <th>roles</th>\n",
       "      <td>NaN</td>\n",
       "      <td>NaN</td>\n",
       "      <td>NaN</td>\n",
       "      <td>NaN</td>\n",
       "      <td>NaN</td>\n",
       "      <td>NaN</td>\n",
       "      <td>NaN</td>\n",
       "      <td>NaN</td>\n",
       "      <td>NaN</td>\n",
       "      <td>NaN</td>\n",
       "      <td>NaN</td>\n",
       "      <td>NaN</td>\n",
       "      <td>NaN</td>\n",
       "    </tr>\n",
       "    <tr>\n",
       "      <th>incomplete_flag</th>\n",
       "      <td>NaN</td>\n",
       "      <td>NaN</td>\n",
       "      <td>NaN</td>\n",
       "      <td>NaN</td>\n",
       "      <td>NaN</td>\n",
       "      <td>NaN</td>\n",
       "      <td>NaN</td>\n",
       "      <td>NaN</td>\n",
       "      <td>NaN</td>\n",
       "      <td>NaN</td>\n",
       "      <td>NaN</td>\n",
       "      <td>NaN</td>\n",
       "      <td>NaN</td>\n",
       "    </tr>\n",
       "    <tr>\n",
       "      <th>age</th>\n",
       "      <td>NaN</td>\n",
       "      <td>0.006711</td>\n",
       "      <td>0.004783</td>\n",
       "      <td>0.000931</td>\n",
       "      <td>-1.000000</td>\n",
       "      <td>0.042212</td>\n",
       "      <td>0.058725</td>\n",
       "      <td>0.041638</td>\n",
       "      <td>0.035461</td>\n",
       "      <td>-0.022356</td>\n",
       "      <td>NaN</td>\n",
       "      <td>NaN</td>\n",
       "      <td>1.000000</td>\n",
       "    </tr>\n",
       "  </tbody>\n",
       "</table>\n",
       "</div>"
      ],
      "text/plain": [
       "                 registered    viewed  explored  certified       YoB  \\\n",
       "registered              NaN       NaN       NaN        NaN       NaN   \n",
       "viewed                  NaN  1.000000  0.219908   0.121460 -0.006711   \n",
       "explored                NaN  0.219908  1.000000   0.504517 -0.004783   \n",
       "certified               NaN  0.121460  0.504517   1.000000 -0.000931   \n",
       "YoB                     NaN -0.006711 -0.004783  -0.000931  1.000000   \n",
       "nevents                 NaN  0.151474  0.453486   0.496904 -0.042212   \n",
       "ndays_act               NaN  0.194616  0.545108   0.551765 -0.058725   \n",
       "nplay_video             NaN  0.001522  0.416503   0.366351 -0.041638   \n",
       "nchapters               NaN  0.021805  0.757574   0.579548 -0.035461   \n",
       "nforum_posts            NaN  0.064513  0.065524   0.076593  0.022356   \n",
       "roles                   NaN       NaN       NaN        NaN       NaN   \n",
       "incomplete_flag         NaN       NaN       NaN        NaN       NaN   \n",
       "age                     NaN  0.006711  0.004783   0.000931 -1.000000   \n",
       "\n",
       "                  nevents  ndays_act  nplay_video  nchapters  nforum_posts  \\\n",
       "registered            NaN        NaN          NaN        NaN           NaN   \n",
       "viewed           0.151474   0.194616     0.001522   0.021805      0.064513   \n",
       "explored         0.453486   0.545108     0.416503   0.757574      0.065524   \n",
       "certified        0.496904   0.551765     0.366351   0.579548      0.076593   \n",
       "YoB             -0.042212  -0.058725    -0.041638  -0.035461      0.022356   \n",
       "nevents          1.000000   0.718681     0.814174   0.444501      0.087138   \n",
       "ndays_act        0.718681   1.000000     0.625898   0.607456      0.102466   \n",
       "nplay_video      0.814174   0.625898     1.000000   0.500819      0.075744   \n",
       "nchapters        0.444501   0.607456     0.500819   1.000000      0.133339   \n",
       "nforum_posts     0.087138   0.102466     0.075744   0.133339      1.000000   \n",
       "roles                 NaN        NaN          NaN        NaN           NaN   \n",
       "incomplete_flag       NaN        NaN          NaN        NaN           NaN   \n",
       "age              0.042212   0.058725     0.041638   0.035461     -0.022356   \n",
       "\n",
       "                 roles  incomplete_flag       age  \n",
       "registered         NaN              NaN       NaN  \n",
       "viewed             NaN              NaN  0.006711  \n",
       "explored           NaN              NaN  0.004783  \n",
       "certified          NaN              NaN  0.000931  \n",
       "YoB                NaN              NaN -1.000000  \n",
       "nevents            NaN              NaN  0.042212  \n",
       "ndays_act          NaN              NaN  0.058725  \n",
       "nplay_video        NaN              NaN  0.041638  \n",
       "nchapters          NaN              NaN  0.035461  \n",
       "nforum_posts       NaN              NaN -0.022356  \n",
       "roles              NaN              NaN       NaN  \n",
       "incomplete_flag    NaN              NaN       NaN  \n",
       "age                NaN              NaN  1.000000  "
      ]
     },
     "execution_count": 14,
     "metadata": {},
     "output_type": "execute_result"
    }
   ],
   "source": [
    "df.corr()"
   ]
  },
  {
   "cell_type": "markdown",
   "metadata": {},
   "source": [
    "### Hypothesis testing"
   ]
  },
  {
   "cell_type": "code",
   "execution_count": 21,
   "metadata": {},
   "outputs": [
    {
     "name": "stdout",
     "output_type": "stream",
     "text": [
      "Null Hypothesis: Age has no impact on retention\n",
      "\n",
      "\n",
      "non_persisters_age mean value: 28.454\n",
      "persisters_age mean value: 29.094\n",
      "\n",
      "\n",
      "non_persisters_age std value: 9.510304096084415\n",
      "persisters_age std value: 9.32937103989331\n",
      "\n",
      "\n",
      "p-value 0.1290734883165393\n",
      "\n",
      "\n",
      "We accept null hypothesis\n"
     ]
    }
   ],
   "source": [
    "#Hypothesis testing: Age has no impact on retention\n",
    "print(\"Null Hypothesis: Age has no impact on retention\")\n",
    "print(\"\\n\")\n",
    "#drop age na.\n",
    "df_age_hypo_test = df.dropna(subset=['age'])\n",
    "\n",
    "#random sample of 1000 students who have persisted\n",
    "persisters_age =np.asarray(df_age_hypo_test[df_age_hypo_test['certified']==1].sample(1000)['age'])\n",
    "\n",
    "#random sample of 1000 students who have not persisted\n",
    "non_persisters_age =np.asarray(df_age_hypo_test[df_age_hypo_test['certified']!=1].sample(1000)['age'])\n",
    "\n",
    "#non_persisters mean\n",
    "non_persisters_age_mean = np.mean(non_persisters_age)\n",
    "#persisters mean\n",
    "persisters_age_mean = np.mean(persisters_age)\n",
    "\n",
    "#non_persisters std\n",
    "non_persisters_age_std = np.std(non_persisters_age)\n",
    "#persisters std\n",
    "persisters_age_std = np.std(persisters_age)\n",
    "\n",
    "ttest,pval = ttest_ind(non_persisters_age,persisters_age)\n",
    "\n",
    "\n",
    "print(\"non_persisters_age mean value:\",non_persisters_age_mean)\n",
    "print(\"persisters_age mean value:\",persisters_age_mean)\n",
    "print(\"\\n\")\n",
    "\n",
    "print(\"non_persisters_age std value:\",non_persisters_age_std)\n",
    "print(\"persisters_age std value:\",persisters_age_std)\n",
    "\n",
    "print(\"\\n\")\n",
    "\n",
    "print(\"p-value\",pval)\n",
    "\n",
    "print(\"\\n\")\n",
    "\n",
    "if pval <0.05:\n",
    "  print(\"We reject null hypothesis\")\n",
    "else:\n",
    "  print(\"We accept null hypothesis\")"
   ]
  },
  {
   "cell_type": "code",
   "execution_count": 425,
   "metadata": {},
   "outputs": [
    {
     "name": "stdout",
     "output_type": "stream",
     "text": [
      "Null Hypothesis: Gender has no impact on retention\n",
      "\n",
      "\n",
      "non_persisters_gender mean value: 0.681\n",
      "persisters_gender mean value: 0.654\n",
      "\n",
      "\n",
      "non_persisters_gender std value: 0.4660890472860309\n",
      "persisters_age std value: 0.4756931784249171\n",
      "\n",
      "\n",
      "p-value 0.20019804894185098\n",
      "\n",
      "\n",
      "We accept null hypothesis\n"
     ]
    }
   ],
   "source": [
    "#Hypothesis testing: Gender has no impact on retention\n",
    "print(\"Null Hypothesis: Gender has no impact on retention\")\n",
    "print(\"\\n\")\n",
    "#drop age na.\n",
    "df_gender_hypo_test = df.dropna(subset=['gender'])\n",
    "df_gender_hypo_test[\"gender\"].replace({\"m\": 1, \"f\": 0, \"o\": 0}, inplace=True)\n",
    "\n",
    "#random sample of 1000 students who have persisted\n",
    "persisters_gender =np.asarray(df_gender_hypo_test[df_gender_hypo_test['certified']==1].sample(1000)['gender'])\n",
    "\n",
    "#random sample of 1000 students who have not persisted\n",
    "non_persisters_gender =np.asarray(df_gender_hypo_test[df_gender_hypo_test['certified']!=1].sample(1000)['gender'])\n",
    "\n",
    "#non_persisters mean\n",
    "non_persisters_gender_mean = np.mean(non_persisters_gender)\n",
    "#persisters mean\n",
    "persisters_gender_mean = np.mean(persisters_gender)\n",
    "\n",
    "#non_persisters std\n",
    "non_persisters_gender_std = np.std(non_persisters_gender)\n",
    "#persisters std\n",
    "persisters_gender_std = np.std(persisters_gender)\n",
    "\n",
    "ttest,pval = ttest_ind(non_persisters_gender,persisters_gender)\n",
    "\n",
    "\n",
    "print(\"non_persisters_gender mean value:\",non_persisters_gender_mean)\n",
    "print(\"persisters_gender mean value:\",persisters_gender_mean)\n",
    "print(\"\\n\")\n",
    "\n",
    "print(\"non_persisters_gender std value:\",non_persisters_gender_std)\n",
    "print(\"persisters_age std value:\",persisters_gender_std)\n",
    "\n",
    "print(\"\\n\")\n",
    "\n",
    "print(\"p-value\",pval)\n",
    "\n",
    "print(\"\\n\")\n",
    "\n",
    "if pval <0.05:\n",
    "  print(\"We reject null hypothesis\")\n",
    "else:\n",
    "  print(\"We accept null hypothesis\")"
   ]
  },
  {
   "cell_type": "code",
   "execution_count": 23,
   "metadata": {},
   "outputs": [
    {
     "name": "stdout",
     "output_type": "stream",
     "text": [
      "Null Hypothesis: Activities or events has no impact on retention\n",
      "\n",
      "\n",
      "non_persisters_events mean value: 122.89\n",
      "persisters_events mean value: 2564.227\n",
      "\n",
      "\n",
      "non_persisters_events std value: 498.7813447794534\n",
      "persisters_events std value: 3027.932458208241\n",
      "\n",
      "\n",
      "p-value 1.8852279749295062e-121\n",
      "\n",
      "\n",
      "We reject null hypothesis\n"
     ]
    }
   ],
   "source": [
    "#Hypothesis testing: events has no impact on retention\n",
    "print(\"Null Hypothesis: Activities or events has no impact on retention\")\n",
    "print(\"\\n\")\n",
    "#drop events na.\n",
    "df_events_hypo_test = df.dropna(subset=['nevents'])\n",
    "\n",
    "#random sample of 1000 students who have persisted\n",
    "persisters_events =np.asarray(df_events_hypo_test[df_events_hypo_test['certified']==1].sample(1000)['nevents'])\n",
    "\n",
    "#random sample of 1000 students who have not persisted\n",
    "non_persisters_events =np.asarray(df_events_hypo_test[df_events_hypo_test['certified']!=1].sample(1000)['nevents'])\n",
    "\n",
    "#non_persisters mean\n",
    "non_persisters_events_mean = np.mean(non_persisters_events)\n",
    "#persisters mean\n",
    "persisters_events_mean = np.mean(persisters_events)\n",
    "\n",
    "#non_persisters std\n",
    "non_persisters_events_std = np.std(non_persisters_events)\n",
    "#persisters std\n",
    "persisters_events_std = np.std(persisters_events)\n",
    "\n",
    "ttest,pval = ttest_ind(non_persisters_events,persisters_events)\n",
    "\n",
    "\n",
    "print(\"non_persisters_events mean value:\",non_persisters_events_mean)\n",
    "print(\"persisters_events mean value:\",persisters_events_mean)\n",
    "print(\"\\n\")\n",
    "\n",
    "print(\"non_persisters_events std value:\",non_persisters_events_std)\n",
    "print(\"persisters_events std value:\",persisters_events_std)\n",
    "\n",
    "print(\"\\n\")\n",
    "\n",
    "print(\"p-value\",pval)\n",
    "\n",
    "print(\"\\n\")\n",
    "\n",
    "if pval <0.05:\n",
    "  print(\"We reject null hypothesis\")\n",
    "else:\n",
    "  print(\"We accept null hypothesis\")"
   ]
  },
  {
   "cell_type": "code",
   "execution_count": 64,
   "metadata": {},
   "outputs": [
    {
     "name": "stdout",
     "output_type": "stream",
     "text": [
      "Null Hypothesis: grades have no impact on retention\n",
      "\n",
      "\n",
      "non_persisters_grade mean value: 0.00672\n",
      "persisters_grade mean value: 0.86971\n",
      "\n",
      "\n",
      "non_persisters_grade std value: 0.051927272217978104\n",
      "persisters_grade std value: 0.12384270628502915\n",
      "\n",
      "\n",
      "p-value 0.0\n",
      "\n",
      "\n",
      "We reject null hypothesis\n"
     ]
    }
   ],
   "source": [
    "#Hypothesis testing: grades has no impact on retention\n",
    "print(\"Null Hypothesis: grades have no impact on retention\")\n",
    "print(\"\\n\")\n",
    "#drop events na.\n",
    "df_grade_hypo_test = df.dropna(subset=['grade'])\n",
    "\n",
    "#random sample of 1000 students who have persisted\n",
    "persisters_grade =np.asarray(df_grade_hypo_test[df_grade_hypo_test['certified']==1].sample(1000)['grade'])\n",
    "\n",
    "#random sample of 1000 students who have not persisted\n",
    "non_persisters_grade =np.asarray(df_grade_hypo_test[df_grade_hypo_test['certified']!=1].sample(1000)['grade'])\n",
    "\n",
    "#replace ' ' with '0'\n",
    "non_persisters_grade = np.where(non_persisters_grade==' ', '0', non_persisters_grade)\n",
    "# change datatype to float\n",
    "non_persisters_grade = non_persisters_grade.astype(np.float)\n",
    "\n",
    "#non_persisters mean\n",
    "non_persisters_grade_mean = np.mean(non_persisters_grade)\n",
    "\n",
    "\n",
    "#replace ' ' with '0'\n",
    "persisters_grade = np.where(persisters_grade==' ', '0', persisters_grade)\n",
    "# change datatype to float\n",
    "persisters_grade = persisters_grade.astype(np.float)\n",
    "\n",
    "#persisters mean\n",
    "persisters_grade_mean = np.mean(persisters_grade)\n",
    "\n",
    "#non_persisters std\n",
    "non_persisters_grade_std = np.std(non_persisters_grade)\n",
    "#persisters std\n",
    "persisters_grade_std = np.std(persisters_grade)\n",
    "\n",
    "ttest,pval = ttest_ind(non_persisters_grade,persisters_grade)\n",
    "\n",
    "\n",
    "print(\"non_persisters_grade mean value:\",non_persisters_grade_mean)\n",
    "print(\"persisters_grade mean value:\",persisters_grade_mean)\n",
    "print(\"\\n\")\n",
    "\n",
    "print(\"non_persisters_grade std value:\",non_persisters_grade_std)\n",
    "print(\"persisters_grade std value:\",persisters_grade_std)\n",
    "\n",
    "print(\"\\n\")\n",
    "\n",
    "print(\"p-value\",pval)\n",
    "\n",
    "print(\"\\n\")\n",
    "\n",
    "if pval <0.05:\n",
    "  print(\"We reject null hypothesis\")\n",
    "else:\n",
    "  print(\"We accept null hypothesis\")\n"
   ]
  },
  {
   "cell_type": "markdown",
   "metadata": {},
   "source": [
    "### Preprocess data"
   ]
  },
  {
   "cell_type": "markdown",
   "metadata": {},
   "source": [
    "#### 1. Handle NAs and nulls"
   ]
  },
  {
   "cell_type": "code",
   "execution_count": 304,
   "metadata": {},
   "outputs": [
    {
     "data": {
      "text/plain": [
       "(290948, 18)"
      ]
     },
     "execution_count": 304,
     "metadata": {},
     "output_type": "execute_result"
    }
   ],
   "source": [
    "X =df.copy()\n",
    "# drop these columns as they are sparse.\n",
    "X.drop(columns=['roles', 'incomplete_flag'],inplace=True)\n",
    "\n",
    "# replace 'NaN' with zero for these columns\n",
    "cols_fillna = ['grade','nevents','ndays_act','nplay_video','nchapters','nforum_posts']\n",
    "for col in cols_fillna:\n",
    "    X[col].fillna(0,inplace=True)\n",
    "\n",
    "# impute column last_event_DI. If it's blank, replace with start_time_DI\n",
    "X['last_event_DI'] = np.where(X['last_event_DI'].isnull(), X['start_time_DI'], X['last_event_DI'])\n",
    "\n",
    "#drop rows with na values. At this point the records that will get dropped are minimal\n",
    "X.dropna(inplace=True)\n",
    "X.shape"
   ]
  },
  {
   "cell_type": "markdown",
   "metadata": {},
   "source": [
    "#### 2. Transform data, handle categorical variables"
   ]
  },
  {
   "cell_type": "code",
   "execution_count": 305,
   "metadata": {},
   "outputs": [],
   "source": [
    "# data transformation\n",
    "# Create a new column which is the difference of last_event_DI and start_time_DI. We can then \n",
    "# drop start_time_DI and last_event_DI\n",
    "X['last_event'] = (X['last_event_DI'].astype('datetime64[ns]') - X['start_time_DI'].astype('datetime64[ns]')).astype(int)\n",
    "X['last_event'] = X['last_event']/100000000000000.0\n",
    "\n",
    "#drop start_time_DI and last_event_DI\n",
    "X.drop(columns=['start_time_DI', 'last_event_DI'],inplace=True)\n",
    "\n",
    "#encode categorical values using \"label encoding\"\n",
    "#https://www.datacamp.com/community/tutorials/categorical-data\n",
    "X['course_id'] = X['course_id'].astype('category')\n",
    "X['course_id'] = X['course_id'].cat.codes\n",
    "\n",
    "X['final_cc_cname_DI'] = X['final_cc_cname_DI'].astype('category')\n",
    "X['final_cc_cname_DI'] = X['final_cc_cname_DI'].cat.codes\n",
    "\n",
    "X['gender'] = X['gender'].astype('category')\n",
    "X['gender'] = X['gender'].cat.codes\n",
    "\n",
    "X['LoE_DI'] = X['LoE_DI'].astype('category')\n",
    "X['LoE_DI'] = X['LoE_DI'].cat.codes\n",
    "\n",
    "#update userid to remove strings\n",
    "X['userid_DI'] = X['userid_DI'].str.slice(start=5)\n",
    "\n",
    "#change ' ' values in grade column to 0\n",
    "X['grade'] = np.where(X['grade'] ==' ', '0', X['grade'])\n",
    "\n",
    "#change datatype to int\n",
    "X['userid_DI'] = X['userid_DI'].astype('int')\n",
    "X['grade'] = X['grade'].astype('float')"
   ]
  },
  {
   "cell_type": "code",
   "execution_count": 248,
   "metadata": {},
   "outputs": [
    {
     "name": "stdout",
     "output_type": "stream",
     "text": [
      "<class 'pandas.core.frame.DataFrame'>\n",
      "Int64Index: 290948 entries, 1880 to 338221\n",
      "Data columns (total 17 columns):\n",
      "course_id            290948 non-null int8\n",
      "userid_DI            290948 non-null int64\n",
      "registered           290948 non-null int64\n",
      "viewed               290948 non-null int64\n",
      "explored             290948 non-null int64\n",
      "certified            290948 non-null int64\n",
      "final_cc_cname_DI    290948 non-null int8\n",
      "LoE_DI               290948 non-null int8\n",
      "YoB                  290948 non-null float64\n",
      "gender               290948 non-null int8\n",
      "grade                290948 non-null float64\n",
      "nevents              290948 non-null float64\n",
      "ndays_act            290948 non-null float64\n",
      "nplay_video          290948 non-null float64\n",
      "nchapters            290948 non-null float64\n",
      "nforum_posts         290948 non-null int64\n",
      "last_event           290948 non-null float64\n",
      "dtypes: float64(7), int64(6), int8(4)\n",
      "memory usage: 32.2 MB\n"
     ]
    }
   ],
   "source": [
    "X.info()"
   ]
  },
  {
   "cell_type": "code",
   "execution_count": 306,
   "metadata": {},
   "outputs": [],
   "source": [
    "#get the target\n",
    "y = X.pop('certified')"
   ]
  },
  {
   "cell_type": "markdown",
   "metadata": {},
   "source": [
    "#### 3. Handle imbalanced dataset"
   ]
  },
  {
   "cell_type": "code",
   "execution_count": 276,
   "metadata": {},
   "outputs": [
    {
     "name": "stdout",
     "output_type": "stream",
     "text": [
      "Counter({0: 285220, 1: 5728})\n",
      "Event Rate 0.02\n",
      "Counter({0: 285220, 1: 285220})\n",
      "New event Rate 1.0\n"
     ]
    }
   ],
   "source": [
    "counter = Counter(y)\n",
    "print(counter)\n",
    "print(\"Event Rate\", round(5728/285220,3))\n",
    "#Balance dataset\n",
    "#https://www.analyticsvidhya.com/blog/2017/03/imbalanced-data-classification/\n",
    "#https://machinelearningmastery.com/smote-oversampling-for-imbalanced-classification/\n",
    "oversample = SMOTE()\n",
    "X, y = oversample.fit_resample(X, y)\n",
    "# summarize the new class distribution\n",
    "counter = Counter(y)\n",
    "print(counter)\n",
    "print(\"New event Rate\", round(285220/285220,3))"
   ]
  },
  {
   "cell_type": "code",
   "execution_count": 307,
   "metadata": {},
   "outputs": [],
   "source": [
    "X_scaled = preprocessing.scale(X)"
   ]
  },
  {
   "cell_type": "code",
   "execution_count": 279,
   "metadata": {},
   "outputs": [
    {
     "data": {
      "text/plain": [
       "array([[-1.73178589, -1.33293948,  0.        , ..., -0.67651863,\n",
       "        -0.10229796, -0.67369554],\n",
       "       [-1.73178589, -1.07379997,  0.        , ..., -0.77556147,\n",
       "        -0.10229796, -0.32296596],\n",
       "       [-1.73178589, -1.02581697,  0.        , ..., -0.77556147,\n",
       "        -0.10229796, -1.03538542],\n",
       "       ...,\n",
       "       [ 1.08074242, -0.0217731 ,  0.        , ...,  0.51199547,\n",
       "        -0.10229796,  0.29821773],\n",
       "       [ 1.08074242,  0.46560298,  0.        , ...,  0.61103831,\n",
       "        -0.10229796,  0.57515645],\n",
       "       [ 1.08074242, -1.06165788,  0.        , ...,  0.07523359,\n",
       "        -0.10229796,  0.72858337]])"
      ]
     },
     "execution_count": 279,
     "metadata": {},
     "output_type": "execute_result"
    }
   ],
   "source": [
    "X_scaled"
   ]
  },
  {
   "cell_type": "code",
   "execution_count": 393,
   "metadata": {},
   "outputs": [],
   "source": [
    "#store column names\n",
    "feature_columns =['course_id', 'userid_DI', 'registered'\n",
    "          , 'viewed', 'explored', 'final_cc_cname_DI'\n",
    "          , 'LoE_DI', 'YoB', 'gender', 'grade', 'nevents', 'ndays_act'\n",
    "          , 'nplay_video', 'nchapters', 'nforum_posts', 'last_event']\n",
    "#get training and test data\n",
    "x_train, x_test, y_train, y_test = train_test_split(X_scaled, y, test_size=0.5, random_state=0)"
   ]
  },
  {
   "cell_type": "markdown",
   "metadata": {},
   "source": [
    "### ML models"
   ]
  },
  {
   "cell_type": "markdown",
   "metadata": {},
   "source": [
    "#### 1.Logistic Regression"
   ]
  },
  {
   "cell_type": "code",
   "execution_count": 394,
   "metadata": {},
   "outputs": [
    {
     "name": "stdout",
     "output_type": "stream",
     "text": [
      "Logistic Regression:\n",
      "Accuracy  0.99855\n",
      "Recall 0.9857\n",
      "Precision 0.9766\n"
     ]
    }
   ],
   "source": [
    "logisticRegr = LogisticRegression()\n",
    "logisticRegr.fit(x_train, y_train)\n",
    "y_pred = logisticRegr.predict(x_test)\n",
    "# Use score method to get accuracy of model\n",
    "score = logisticRegr.score(x_test, y_test)\n",
    "print(\"Logistic Regression:\")\n",
    "print(\"Accuracy \",round(score,5))\n",
    "print(\"Recall\",round(recall_score(y_test, y_pred, average='macro'),5))\n",
    "print(\"Precision\",round(precision_score(y_test, y_pred, average='macro'),5)) "
   ]
  },
  {
   "cell_type": "code",
   "execution_count": 311,
   "metadata": {},
   "outputs": [
    {
     "data": {
      "text/plain": [
       "(142521, 133, 78, 2742)"
      ]
     },
     "execution_count": 311,
     "metadata": {},
     "output_type": "execute_result"
    }
   ],
   "source": [
    "tn, fp, fn, tp = confusion_matrix(y_test, y_pred, labels=None, sample_weight=None, normalize=None).ravel()\n",
    "(tn, fp, fn, tp)"
   ]
  },
  {
   "cell_type": "code",
   "execution_count": 395,
   "metadata": {},
   "outputs": [
    {
     "name": "stdout",
     "output_type": "stream",
     "text": [
      "Top 5 Logistic Regression features based on feature coefficients:\n"
     ]
    },
    {
     "data": {
      "text/plain": [
       "['grade', 'viewed', 'explored', 'final_cc_cname_DI', 'nevents']"
      ]
     },
     "execution_count": 395,
     "metadata": {},
     "output_type": "execute_result"
    }
   ],
   "source": [
    "# Get the top 5 features based on feature coefficients\n",
    "#https://stackoverflow.com/questions/34649969/how-to-find-the-features-names-of-the-coefficients-using-scikit-linear-regressio\n",
    "coef_dict = {}\n",
    "for coef, feat in zip(logisticRegr.coef_[0,:],feature_columns):\n",
    "    coef_dict[feat] = coef\n",
    "print(\"Top 5 Logistic Regression features based on feature coefficients:\")\n",
    "sorted(coef_dict, key=lambda dict_key: abs(coef_dict[dict_key]), reverse=True)[:5]"
   ]
  },
  {
   "cell_type": "markdown",
   "metadata": {},
   "source": [
    "#### 2.Random Forest"
   ]
  },
  {
   "cell_type": "code",
   "execution_count": 426,
   "metadata": {},
   "outputs": [
    {
     "name": "stdout",
     "output_type": "stream",
     "text": [
      "RandomForest Classifier:\n",
      "Accuracy  0.99996\n",
      "Recall 0.99911\n",
      "Precision 0.9998\n"
     ]
    }
   ],
   "source": [
    "randomClassifier = RandomForestClassifier(n_estimators=100, \n",
    "                               random_state=50, \n",
    "                               max_features = 'sqrt',\n",
    "                               n_jobs=-1)\n",
    "randomClassifier.fit(x_train, y_train)\n",
    "y_pred = randomClassifier.predict(x_test)\n",
    "# Use score method to get accuracy of model\n",
    "score = randomClassifier.score(x_test, y_test)\n",
    "print(\"RandomForest Classifier:\")\n",
    "print(\"Accuracy \",round(score,5))\n",
    "print(\"Recall\",round(recall_score(y_test, y_pred, average='macro'),5))\n",
    "print(\"Precision\",round(precision_score(y_test, y_pred, average='macro'),5))"
   ]
  },
  {
   "cell_type": "code",
   "execution_count": 399,
   "metadata": {},
   "outputs": [
    {
     "name": "stdout",
     "output_type": "stream",
     "text": [
      "Top 5 Random Forest features based on feature importance:\n"
     ]
    },
    {
     "data": {
      "text/plain": [
       "['grade', 'nchapters', 'ndays_act', 'nevents', 'explored']"
      ]
     },
     "execution_count": 399,
     "metadata": {},
     "output_type": "execute_result"
    }
   ],
   "source": [
    "# Get the top 5 features\n",
    "rf_feat_imp = randomClassifier.feature_importances_\n",
    "rf_feat_imp = np.reshape(rf_feat_imp, (1,16))\n",
    "\n",
    "coef_dict = {}\n",
    "for coef, feat in zip(rf_feat_imp[0,:],feature_columns):\n",
    "    coef_dict[feat] = coef\n",
    "print(\"Top 5 Random Forest features based on feature importance:\")\n",
    "sorted(coef_dict, key=lambda dict_key: abs(coef_dict[dict_key]), reverse=True)[:5]"
   ]
  },
  {
   "cell_type": "markdown",
   "metadata": {},
   "source": [
    "#### 3. Support Vector Machine(SVM)"
   ]
  },
  {
   "cell_type": "code",
   "execution_count": 405,
   "metadata": {},
   "outputs": [
    {
     "name": "stdout",
     "output_type": "stream",
     "text": [
      "SVM(Support Vector Machine) Classifier:\n",
      "Accuracy  0.99863\n",
      "Recall 0.98731\n",
      "Precision 0.97703\n"
     ]
    }
   ],
   "source": [
    "svmClassifier = svm.SVC(kernel='linear')\n",
    "svmClassifier.fit(x_train, y_train)\n",
    "y_pred = svmClassifier.predict(x_test)\n",
    "# Use score method to get accuracy of model\n",
    "score = svmClassifier.score(x_test, y_test)\n",
    "print(\"SVM(Support Vector Machine) Classifier:\")\n",
    "print(\"Accuracy \",round(score,5))\n",
    "print(\"Recall\",round(recall_score(y_test, y_pred, average='macro'),5))\n",
    "print(\"Precision\",round(precision_score(y_test, y_pred, average='macro'),5))"
   ]
  },
  {
   "cell_type": "code",
   "execution_count": 409,
   "metadata": {},
   "outputs": [
    {
     "name": "stdout",
     "output_type": "stream",
     "text": [
      "Top 5 SVM(Support Vector Machine) features based on feature coefficients:\n"
     ]
    },
    {
     "data": {
      "text/plain": [
       "['grade', 'explored', 'course_id', 'nevents', 'final_cc_cname_DI']"
      ]
     },
     "execution_count": 409,
     "metadata": {},
     "output_type": "execute_result"
    }
   ],
   "source": [
    "# Get the top 5 features for SVM\n",
    "coef_dict = {}\n",
    "for coef, feat in zip(svmClassifier.coef_[0,:],feature_columns):\n",
    "    coef_dict[feat] = coef\n",
    "print(\"Top 5 SVM(Support Vector Machine):\")\n",
    "sorted(coef_dict, key=lambda dict_key: abs(coef_dict[dict_key]), reverse=True)[:5]"
   ]
  },
  {
   "cell_type": "code",
   "execution_count": null,
   "metadata": {},
   "outputs": [],
   "source": []
  },
  {
   "cell_type": "code",
   "execution_count": 422,
   "metadata": {},
   "outputs": [
    {
     "name": "stdout",
     "output_type": "stream",
     "text": [
      "XGBoost Classifier:\n",
      "Accuracy  1.0\n",
      "Recall 1.0\n",
      "Precision 1.0\n"
     ]
    }
   ],
   "source": [
    "xgboostClassifier = XGBClassifier()\n",
    "xgboostClassifier.fit(x_train, y_train)\n",
    "y_pred = xgboostClassifier.predict(x_test)\n",
    "# Use score method to get accuracy of model\n",
    "score = xgboostClassifier.score(x_test, y_test)\n",
    "print(\"XGBoost Classifier:\")\n",
    "print(\"Accuracy \",round(score,10))\n",
    "print(\"Recall\",round(recall_score(y_test, y_pred, average='macro'),10))\n",
    "print(\"Precision\",round(precision_score(y_test, y_pred, average='macro'),10))"
   ]
  },
  {
   "cell_type": "code",
   "execution_count": 423,
   "metadata": {},
   "outputs": [
    {
     "name": "stdout",
     "output_type": "stream",
     "text": [
      "Top 5 XGBoost features:\n"
     ]
    },
    {
     "data": {
      "text/plain": [
       "['grade', 'course_id', 'nevents', 'nchapters', 'last_event']"
      ]
     },
     "execution_count": 423,
     "metadata": {},
     "output_type": "execute_result"
    }
   ],
   "source": [
    "# Get the top 5 features for SVM\n",
    "xgboost_feat_imp = xgboostClassifier.feature_importances_\n",
    "xgboost_feat_imp = np.reshape(xgboost_feat_imp, (1,16))\n",
    "\n",
    "coef_dict = {}\n",
    "for coef, feat in zip(xgboost_feat_imp[0,:],feature_columns):\n",
    "    coef_dict[feat] = coef\n",
    "print(\"Top 5 XGBoost features:\")\n",
    "sorted(coef_dict, key=lambda dict_key: abs(coef_dict[dict_key]), reverse=True)[:5]"
   ]
  }
 ],
 "metadata": {
  "kernelspec": {
   "display_name": "Python 3",
   "language": "python",
   "name": "python3"
  },
  "language_info": {
   "codemirror_mode": {
    "name": "ipython",
    "version": 3
   },
   "file_extension": ".py",
   "mimetype": "text/x-python",
   "name": "python",
   "nbconvert_exporter": "python",
   "pygments_lexer": "ipython3",
   "version": "3.6.8"
  }
 },
 "nbformat": 4,
 "nbformat_minor": 2
}
