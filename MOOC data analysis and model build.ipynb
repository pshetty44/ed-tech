{
 "cells": [
  {
   "cell_type": "code",
   "execution_count": 130,
   "metadata": {},
   "outputs": [],
   "source": [
    "import pandas as pd\n",
    "import numpy as np\n",
    "from scipy.stats import ttest_ind\n",
    "from imblearn.over_sampling import SMOTE\n",
    "from collections import Counter\n",
    "from imblearn.under_sampling import RandomUnderSampler\n",
    "from imblearn.pipeline import Pipeline\n",
    "from sklearn import preprocessing\n",
    "from sklearn.linear_model import LogisticRegression\n",
    "from sklearn.ensemble import RandomForestClassifier\n",
    "from sklearn import svm\n",
    "from xgboost import XGBClassifier\n",
    "from sklearn.model_selection import cross_val_score, KFold, cross_validate, train_test_split\n",
    "from sklearn.metrics import confusion_matrix, make_scorer, accuracy_score, precision_score, recall_score, f1_score"
   ]
  },
  {
   "cell_type": "code",
   "execution_count": 131,
   "metadata": {},
   "outputs": [],
   "source": [
    "df = pd.read_csv (r'HXPC13_DI_v3_11-13-2019.csv')"
   ]
  },
  {
   "cell_type": "code",
   "execution_count": 132,
   "metadata": {},
   "outputs": [
    {
     "data": {
      "text/html": [
       "<div>\n",
       "<style scoped>\n",
       "    .dataframe tbody tr th:only-of-type {\n",
       "        vertical-align: middle;\n",
       "    }\n",
       "\n",
       "    .dataframe tbody tr th {\n",
       "        vertical-align: top;\n",
       "    }\n",
       "\n",
       "    .dataframe thead th {\n",
       "        text-align: right;\n",
       "    }\n",
       "</style>\n",
       "<table border=\"1\" class=\"dataframe\">\n",
       "  <thead>\n",
       "    <tr style=\"text-align: right;\">\n",
       "      <th></th>\n",
       "      <th>course_id</th>\n",
       "      <th>userid_DI</th>\n",
       "      <th>registered</th>\n",
       "      <th>viewed</th>\n",
       "      <th>explored</th>\n",
       "      <th>certified</th>\n",
       "      <th>final_cc_cname_DI</th>\n",
       "      <th>LoE_DI</th>\n",
       "      <th>YoB</th>\n",
       "      <th>gender</th>\n",
       "      <th>grade</th>\n",
       "      <th>start_time_DI</th>\n",
       "      <th>last_event_DI</th>\n",
       "      <th>nevents</th>\n",
       "      <th>ndays_act</th>\n",
       "      <th>nplay_video</th>\n",
       "      <th>nchapters</th>\n",
       "      <th>nforum_posts</th>\n",
       "      <th>roles</th>\n",
       "      <th>incomplete_flag</th>\n",
       "    </tr>\n",
       "  </thead>\n",
       "  <tbody>\n",
       "    <tr>\n",
       "      <th>0</th>\n",
       "      <td>HarvardX/CB22x/2013_Spring</td>\n",
       "      <td>MHxPC130442623</td>\n",
       "      <td>1</td>\n",
       "      <td>0</td>\n",
       "      <td>0</td>\n",
       "      <td>0</td>\n",
       "      <td>United States</td>\n",
       "      <td>NaN</td>\n",
       "      <td>NaN</td>\n",
       "      <td>NaN</td>\n",
       "      <td>0</td>\n",
       "      <td>12/19/12</td>\n",
       "      <td>11/17/13</td>\n",
       "      <td>NaN</td>\n",
       "      <td>9.0</td>\n",
       "      <td>NaN</td>\n",
       "      <td>NaN</td>\n",
       "      <td>0</td>\n",
       "      <td>NaN</td>\n",
       "      <td>1.0</td>\n",
       "    </tr>\n",
       "    <tr>\n",
       "      <th>1</th>\n",
       "      <td>HarvardX/CB22x/2013_Spring</td>\n",
       "      <td>MHxPC130275857</td>\n",
       "      <td>1</td>\n",
       "      <td>0</td>\n",
       "      <td>0</td>\n",
       "      <td>0</td>\n",
       "      <td>United States</td>\n",
       "      <td>NaN</td>\n",
       "      <td>NaN</td>\n",
       "      <td>NaN</td>\n",
       "      <td>0</td>\n",
       "      <td>2/8/13</td>\n",
       "      <td>11/17/13</td>\n",
       "      <td>NaN</td>\n",
       "      <td>16.0</td>\n",
       "      <td>NaN</td>\n",
       "      <td>NaN</td>\n",
       "      <td>0</td>\n",
       "      <td>NaN</td>\n",
       "      <td>1.0</td>\n",
       "    </tr>\n",
       "    <tr>\n",
       "      <th>2</th>\n",
       "      <td>HarvardX/CB22x/2013_Spring</td>\n",
       "      <td>MHxPC130539455</td>\n",
       "      <td>1</td>\n",
       "      <td>1</td>\n",
       "      <td>0</td>\n",
       "      <td>0</td>\n",
       "      <td>France</td>\n",
       "      <td>NaN</td>\n",
       "      <td>NaN</td>\n",
       "      <td>NaN</td>\n",
       "      <td>0</td>\n",
       "      <td>1/1/13</td>\n",
       "      <td>5/14/13</td>\n",
       "      <td>42.0</td>\n",
       "      <td>6.0</td>\n",
       "      <td>NaN</td>\n",
       "      <td>3.0</td>\n",
       "      <td>0</td>\n",
       "      <td>NaN</td>\n",
       "      <td>NaN</td>\n",
       "    </tr>\n",
       "    <tr>\n",
       "      <th>3</th>\n",
       "      <td>HarvardX/CB22x/2013_Spring</td>\n",
       "      <td>MHxPC130088379</td>\n",
       "      <td>1</td>\n",
       "      <td>1</td>\n",
       "      <td>0</td>\n",
       "      <td>0</td>\n",
       "      <td>United States</td>\n",
       "      <td>NaN</td>\n",
       "      <td>NaN</td>\n",
       "      <td>NaN</td>\n",
       "      <td>0</td>\n",
       "      <td>2/18/13</td>\n",
       "      <td>3/17/13</td>\n",
       "      <td>70.0</td>\n",
       "      <td>3.0</td>\n",
       "      <td>NaN</td>\n",
       "      <td>3.0</td>\n",
       "      <td>0</td>\n",
       "      <td>NaN</td>\n",
       "      <td>NaN</td>\n",
       "    </tr>\n",
       "    <tr>\n",
       "      <th>4</th>\n",
       "      <td>HarvardX/CB22x/2013_Spring</td>\n",
       "      <td>MHxPC130024894</td>\n",
       "      <td>1</td>\n",
       "      <td>1</td>\n",
       "      <td>0</td>\n",
       "      <td>0</td>\n",
       "      <td>United States</td>\n",
       "      <td>NaN</td>\n",
       "      <td>NaN</td>\n",
       "      <td>NaN</td>\n",
       "      <td>0.07</td>\n",
       "      <td>1/24/13</td>\n",
       "      <td>8/3/13</td>\n",
       "      <td>175.0</td>\n",
       "      <td>9.0</td>\n",
       "      <td>NaN</td>\n",
       "      <td>7.0</td>\n",
       "      <td>0</td>\n",
       "      <td>NaN</td>\n",
       "      <td>NaN</td>\n",
       "    </tr>\n",
       "  </tbody>\n",
       "</table>\n",
       "</div>"
      ],
      "text/plain": [
       "                    course_id       userid_DI  registered  viewed  explored  \\\n",
       "0  HarvardX/CB22x/2013_Spring  MHxPC130442623           1       0         0   \n",
       "1  HarvardX/CB22x/2013_Spring  MHxPC130275857           1       0         0   \n",
       "2  HarvardX/CB22x/2013_Spring  MHxPC130539455           1       1         0   \n",
       "3  HarvardX/CB22x/2013_Spring  MHxPC130088379           1       1         0   \n",
       "4  HarvardX/CB22x/2013_Spring  MHxPC130024894           1       1         0   \n",
       "\n",
       "   certified final_cc_cname_DI LoE_DI  YoB gender grade start_time_DI  \\\n",
       "0          0     United States    NaN  NaN    NaN     0      12/19/12   \n",
       "1          0     United States    NaN  NaN    NaN     0        2/8/13   \n",
       "2          0            France    NaN  NaN    NaN     0        1/1/13   \n",
       "3          0     United States    NaN  NaN    NaN     0       2/18/13   \n",
       "4          0     United States    NaN  NaN    NaN  0.07       1/24/13   \n",
       "\n",
       "  last_event_DI  nevents  ndays_act  nplay_video  nchapters  nforum_posts  \\\n",
       "0      11/17/13      NaN        9.0          NaN        NaN             0   \n",
       "1      11/17/13      NaN       16.0          NaN        NaN             0   \n",
       "2       5/14/13     42.0        6.0          NaN        3.0             0   \n",
       "3       3/17/13     70.0        3.0          NaN        3.0             0   \n",
       "4        8/3/13    175.0        9.0          NaN        7.0             0   \n",
       "\n",
       "   roles  incomplete_flag  \n",
       "0    NaN              1.0  \n",
       "1    NaN              1.0  \n",
       "2    NaN              NaN  \n",
       "3    NaN              NaN  \n",
       "4    NaN              NaN  "
      ]
     },
     "execution_count": 132,
     "metadata": {},
     "output_type": "execute_result"
    }
   ],
   "source": [
    "df.head(5)"
   ]
  },
  {
   "cell_type": "markdown",
   "metadata": {},
   "source": [
    "### Descriptive statistics"
   ]
  },
  {
   "cell_type": "code",
   "execution_count": 133,
   "metadata": {},
   "outputs": [
    {
     "data": {
      "image/png": "[encoded data removed]",
      "text/plain": [
       "<Figure size 432x288 with 1 Axes>"
      ]
     },
     "metadata": {
      "needs_background": "light"
     },
     "output_type": "display_data"
    }
   ],
   "source": [
    "df_gender = df.groupby(['gender','certified'])['course_id'].count().unstack().head(2)\n",
    "gender_plot = df_gender.plot(kind='bar',stacked=True,title=\"Retention by gender\",rot=0)\n",
    "gender_plot.set_xlabel(\"Gender\")\n",
    "gender_plot.set_ylabel(\"No of students\")\n",
    "gender_plot.set_ylim((80000, 250000))\n",
    "gender_plot.legend([\"Not certified\",\"Certified\"]);"
   ]
  },
  {
   "cell_type": "code",
   "execution_count": 134,
   "metadata": {},
   "outputs": [
    {
     "data": {
      "image/png": "[encoded data removed]",
      "text/plain": [
       "<Figure size 432x288 with 1 Axes>"
      ]
     },
     "metadata": {
      "needs_background": "light"
     },
     "output_type": "display_data"
    }
   ],
   "source": [
    "#add age column\n",
    "df['age'] = 2013- df['YoB']\n",
    "#add age bucket\n",
    "df.loc[((df['age'] >= 15) & (df['age'] <= 25) ), 'age_bucket'] = '15_and_25'\n",
    "df.loc[((df['age'] > 25) & (df['age'] <= 35) ), 'age_bucket'] = '25_and_35'\n",
    "df.loc[((df['age'] > 35) & (df['age'] <= 50) ), 'age_bucket'] = '35_and_50'\n",
    "df.loc[((df['age'] > 51) & (df['age'] <= 75) ), 'age_bucket'] = '51_and_75'\n",
    "\n",
    "#plot\n",
    "df_age = df.groupby(['age_bucket','certified'])['course_id'].count().unstack()\n",
    "age_plot = df_age.plot(kind='bar',stacked=True,title=\"Retention by major age groups\",rot=45)\n",
    "age_plot.set_xlabel(\"Age\")\n",
    "age_plot.set_ylabel(\"No of students\")\n",
    "#age_plot.set_ylim((1000, 250000))\n",
    "age_plot.legend([\"Not certified\",\"Certified\"]);"
   ]
  },
  {
   "cell_type": "code",
   "execution_count": 135,
   "metadata": {},
   "outputs": [
    {
     "data": {
      "image/png": "[encoded data removed]",
      "text/plain": [
       "<Figure size 432x288 with 1 Axes>"
      ]
     },
     "metadata": {
      "needs_background": "light"
     },
     "output_type": "display_data"
    }
   ],
   "source": [
    "#Top countries by student registration\n",
    "df_country = df.loc[df['final_cc_cname_DI'].isin(['United States','India','Other Europe','Other Africa','United Kingdom'\n",
    "                                                 ,'Brazil','Canada','Other Middle East/Central Asia'\n",
    "                                                 ,'Other South Asia\t','Nigeria','Spain','Pakistan'\n",
    "                                                 ,'Other South America','Australia'])]\n",
    "#group by countries\n",
    "df_country = df_country.groupby(['final_cc_cname_DI'])['course_id'].count()\n",
    "#sort\n",
    "df_country = df_country.reset_index().sort_values('course_id', ascending=False)\\\n",
    "                        .set_index('final_cc_cname_DI')\n",
    "#plot\n",
    "country_plot = df_country.plot(kind='bar',stacked=True,title=\"Student enrollments by countries\",rot=90,legend=False);\n",
    "country_plot.set_xlabel(\"Country\")\n",
    "country_plot.set_ylabel(\"No of students\");"
   ]
  },
  {
   "cell_type": "code",
   "execution_count": 136,
   "metadata": {},
   "outputs": [
    {
     "data": {
      "image/png": "[encoded data removed]",
      "text/plain": [
       "<Figure size 432x288 with 1 Axes>"
      ]
     },
     "metadata": {
      "needs_background": "light"
     },
     "output_type": "display_data"
    }
   ],
   "source": [
    "df_loe = df.groupby(['LoE_DI','certified'])['course_id'].count().unstack()\n",
    "loe_plot = df_loe.plot(kind='bar',stacked=True,title=\"Retention by level of education\",rot=90)\n",
    "loe_plot.set_xlabel(\"Level of Education\")\n",
    "loe_plot.set_ylabel(\"No of students\")\n",
    "#loe_plot.set_ylim((10000, 250000))\n",
    "loe_plot.legend([\"Not certified\",\"Certified\"]);"
   ]
  },
  {
   "cell_type": "code",
   "execution_count": 137,
   "metadata": {},
   "outputs": [
    {
     "data": {
      "image/png": "[encoded data removed]",
      "text/plain": [
       "<Figure size 432x288 with 1 Axes>"
      ]
     },
     "metadata": {
      "needs_background": "light"
     },
     "output_type": "display_data"
    }
   ],
   "source": [
    "#student activity\n",
    "registered = df[df['registered']==1]['course_id'].count()\n",
    "viewed = df[df['viewed']==1]['course_id'].count()\n",
    "explored = df[df['explored']==1]['course_id'].count()\n",
    "persisted = df[df['certified']==1]['course_id'].count()\n",
    "\n",
    "#build df\n",
    "df_progress = pd.DataFrame([['Registered',registered],\n",
    "               ['Viewed',viewed],\n",
    "               ['Explored',explored],\n",
    "              ['Persisted',persisted]], columns=\n",
    "['student_progress', 'count'])\n",
    "\n",
    "#set index\n",
    "df_progress = df_progress.set_index('student_progress')\n",
    "\n",
    "#plot\n",
    "progress_plot = df_progress.plot(kind='bar',stacked=True,title=\"Student activity\",rot=90,legend=False);\n",
    "progress_plot.set_xlabel(\"Activity\")\n",
    "progress_plot.set_ylabel(\"No of students\");"
   ]
  },
  {
   "cell_type": "code",
   "execution_count": 138,
   "metadata": {},
   "outputs": [
    {
     "data": {
      "image/png": "[encoded data removed]",
      "text/plain": [
       "<Figure size 432x288 with 1 Axes>"
      ]
     },
     "metadata": {
      "needs_background": "light"
     },
     "output_type": "display_data"
    }
   ],
   "source": [
    "#student activity\n",
    "#nevents = df['nevents'].sum()\n",
    "ndays_act = df['ndays_act'].sum()\n",
    "nplay_video = df['nplay_video'].sum()\n",
    "nchapters = df['nchapters'].sum()\n",
    "nforum_posts = df['nforum_posts'].sum()\n",
    "\n",
    "#build df\n",
    "df_activity_progress = pd.DataFrame([\n",
    "               ['ndays_act',ndays_act],\n",
    "               ['nplay_video',nplay_video],\n",
    "              ['nchapters',nchapters],\n",
    "              ['nforum_posts',nforum_posts]],            \n",
    "            columns= ['student_activity_progress', 'count'])\n",
    "\n",
    "#set index\n",
    "df_activity_progress = df_activity_progress.set_index('student_activity_progress')\n",
    "\n",
    "#plot\n",
    "activity_progress_plot = df_activity_progress.plot(kind='bar',stacked=True,title=\"Student engagement type\",rot=90,legend=False);\n",
    "activity_progress_plot.set_xlabel(\"Engagement Type\")\n",
    "activity_progress_plot.set_ylabel(\"No of activities\");"
   ]
  },
  {
   "cell_type": "markdown",
   "metadata": {},
   "source": [
    "### Key feature statistics"
   ]
  },
  {
   "cell_type": "code",
   "execution_count": 139,
   "metadata": {},
   "outputs": [
    {
     "data": {
      "text/plain": [
       "count    299719.000000\n",
       "mean         28.955275\n",
       "std           9.603730\n",
       "min           0.000000\n",
       "25%          22.000000\n",
       "50%          27.000000\n",
       "75%          33.000000\n",
       "max          82.000000\n",
       "Name: age, dtype: float64"
      ]
     },
     "execution_count": 139,
     "metadata": {},
     "output_type": "execute_result"
    }
   ],
   "source": [
    "df['age'].describe()"
   ]
  },
  {
   "cell_type": "code",
   "execution_count": 140,
   "metadata": {},
   "outputs": [
    {
     "data": {
      "text/plain": [
       "count    178945.000000\n",
       "mean        231.992702\n",
       "std         939.101311\n",
       "min           1.000000\n",
       "25%           3.000000\n",
       "50%          17.000000\n",
       "75%          95.000000\n",
       "max       43880.000000\n",
       "Name: nevents, dtype: float64"
      ]
     },
     "execution_count": 140,
     "metadata": {},
     "output_type": "execute_result"
    }
   ],
   "source": [
    "df['nevents'].describe()"
   ]
  },
  {
   "cell_type": "code",
   "execution_count": 141,
   "metadata": {},
   "outputs": [
    {
     "data": {
      "text/plain": [
       "count    33277.000000\n",
       "mean       146.964179\n",
       "std        518.468002\n",
       "min          1.000000\n",
       "25%          4.000000\n",
       "50%         17.000000\n",
       "75%         74.000000\n",
       "max      34596.000000\n",
       "Name: nplay_video, dtype: float64"
      ]
     },
     "execution_count": 141,
     "metadata": {},
     "output_type": "execute_result"
    }
   ],
   "source": [
    "df['nplay_video'].describe()"
   ]
  },
  {
   "cell_type": "code",
   "execution_count": 142,
   "metadata": {},
   "outputs": [
    {
     "data": {
      "text/plain": [
       "count    193758.000000\n",
       "mean          3.487727\n",
       "std           4.720403\n",
       "min           1.000000\n",
       "25%           1.000000\n",
       "50%           2.000000\n",
       "75%           3.000000\n",
       "max          34.000000\n",
       "Name: nchapters, dtype: float64"
      ]
     },
     "execution_count": 142,
     "metadata": {},
     "output_type": "execute_result"
    }
   ],
   "source": [
    "df['nchapters'].describe()"
   ]
  },
  {
   "cell_type": "markdown",
   "metadata": {},
   "source": [
    "### Feature correlation"
   ]
  },
  {
   "cell_type": "code",
   "execution_count": 143,
   "metadata": {},
   "outputs": [
    {
     "data": {
      "text/html": [
       "<div>\n",
       "<style scoped>\n",
       "    .dataframe tbody tr th:only-of-type {\n",
       "        vertical-align: middle;\n",
       "    }\n",
       "\n",
       "    .dataframe tbody tr th {\n",
       "        vertical-align: top;\n",
       "    }\n",
       "\n",
       "    .dataframe thead th {\n",
       "        text-align: right;\n",
       "    }\n",
       "</style>\n",
       "<table border=\"1\" class=\"dataframe\">\n",
       "  <thead>\n",
       "    <tr style=\"text-align: right;\">\n",
       "      <th></th>\n",
       "      <th>registered</th>\n",
       "      <th>viewed</th>\n",
       "      <th>explored</th>\n",
       "      <th>certified</th>\n",
       "      <th>YoB</th>\n",
       "      <th>nevents</th>\n",
       "      <th>ndays_act</th>\n",
       "      <th>nplay_video</th>\n",
       "      <th>nchapters</th>\n",
       "      <th>nforum_posts</th>\n",
       "      <th>roles</th>\n",
       "      <th>incomplete_flag</th>\n",
       "      <th>age</th>\n",
       "    </tr>\n",
       "  </thead>\n",
       "  <tbody>\n",
       "    <tr>\n",
       "      <th>registered</th>\n",
       "      <td>NaN</td>\n",
       "      <td>NaN</td>\n",
       "      <td>NaN</td>\n",
       "      <td>NaN</td>\n",
       "      <td>NaN</td>\n",
       "      <td>NaN</td>\n",
       "      <td>NaN</td>\n",
       "      <td>NaN</td>\n",
       "      <td>NaN</td>\n",
       "      <td>NaN</td>\n",
       "      <td>NaN</td>\n",
       "      <td>NaN</td>\n",
       "      <td>NaN</td>\n",
       "    </tr>\n",
       "    <tr>\n",
       "      <th>viewed</th>\n",
       "      <td>NaN</td>\n",
       "      <td>1.000000</td>\n",
       "      <td>0.219908</td>\n",
       "      <td>0.121460</td>\n",
       "      <td>-0.006711</td>\n",
       "      <td>0.151474</td>\n",
       "      <td>0.194616</td>\n",
       "      <td>0.001522</td>\n",
       "      <td>0.021805</td>\n",
       "      <td>0.064513</td>\n",
       "      <td>NaN</td>\n",
       "      <td>NaN</td>\n",
       "      <td>0.006711</td>\n",
       "    </tr>\n",
       "    <tr>\n",
       "      <th>explored</th>\n",
       "      <td>NaN</td>\n",
       "      <td>0.219908</td>\n",
       "      <td>1.000000</td>\n",
       "      <td>0.504517</td>\n",
       "      <td>-0.004783</td>\n",
       "      <td>0.453486</td>\n",
       "      <td>0.545108</td>\n",
       "      <td>0.416503</td>\n",
       "      <td>0.757574</td>\n",
       "      <td>0.065524</td>\n",
       "      <td>NaN</td>\n",
       "      <td>NaN</td>\n",
       "      <td>0.004783</td>\n",
       "    </tr>\n",
       "    <tr>\n",
       "      <th>certified</th>\n",
       "      <td>NaN</td>\n",
       "      <td>0.121460</td>\n",
       "      <td>0.504517</td>\n",
       "      <td>1.000000</td>\n",
       "      <td>-0.000931</td>\n",
       "      <td>0.496904</td>\n",
       "      <td>0.551765</td>\n",
       "      <td>0.366351</td>\n",
       "      <td>0.579548</td>\n",
       "      <td>0.076593</td>\n",
       "      <td>NaN</td>\n",
       "      <td>NaN</td>\n",
       "      <td>0.000931</td>\n",
       "    </tr>\n",
       "    <tr>\n",
       "      <th>YoB</th>\n",
       "      <td>NaN</td>\n",
       "      <td>-0.006711</td>\n",
       "      <td>-0.004783</td>\n",
       "      <td>-0.000931</td>\n",
       "      <td>1.000000</td>\n",
       "      <td>-0.042212</td>\n",
       "      <td>-0.058725</td>\n",
       "      <td>-0.041638</td>\n",
       "      <td>-0.035461</td>\n",
       "      <td>0.022356</td>\n",
       "      <td>NaN</td>\n",
       "      <td>NaN</td>\n",
       "      <td>-1.000000</td>\n",
       "    </tr>\n",
       "    <tr>\n",
       "      <th>nevents</th>\n",
       "      <td>NaN</td>\n",
       "      <td>0.151474</td>\n",
       "      <td>0.453486</td>\n",
       "      <td>0.496904</td>\n",
       "      <td>-0.042212</td>\n",
       "      <td>1.000000</td>\n",
       "      <td>0.718681</td>\n",
       "      <td>0.814174</td>\n",
       "      <td>0.444501</td>\n",
       "      <td>0.087138</td>\n",
       "      <td>NaN</td>\n",
       "      <td>NaN</td>\n",
       "      <td>0.042212</td>\n",
       "    </tr>\n",
       "    <tr>\n",
       "      <th>ndays_act</th>\n",
       "      <td>NaN</td>\n",
       "      <td>0.194616</td>\n",
       "      <td>0.545108</td>\n",
       "      <td>0.551765</td>\n",
       "      <td>-0.058725</td>\n",
       "      <td>0.718681</td>\n",
       "      <td>1.000000</td>\n",
       "      <td>0.625898</td>\n",
       "      <td>0.607456</td>\n",
       "      <td>0.102466</td>\n",
       "      <td>NaN</td>\n",
       "      <td>NaN</td>\n",
       "      <td>0.058725</td>\n",
       "    </tr>\n",
       "    <tr>\n",
       "      <th>nplay_video</th>\n",
       "      <td>NaN</td>\n",
       "      <td>0.001522</td>\n",
       "      <td>0.416503</td>\n",
       "      <td>0.366351</td>\n",
       "      <td>-0.041638</td>\n",
       "      <td>0.814174</td>\n",
       "      <td>0.625898</td>\n",
       "      <td>1.000000</td>\n",
       "      <td>0.500819</td>\n",
       "      <td>0.075744</td>\n",
       "      <td>NaN</td>\n",
       "      <td>NaN</td>\n",
       "      <td>0.041638</td>\n",
       "    </tr>\n",
       "    <tr>\n",
       "      <th>nchapters</th>\n",
       "      <td>NaN</td>\n",
       "      <td>0.021805</td>\n",
       "      <td>0.757574</td>\n",
       "      <td>0.579548</td>\n",
       "      <td>-0.035461</td>\n",
       "      <td>0.444501</td>\n",
       "      <td>0.607456</td>\n",
       "      <td>0.500819</td>\n",
       "      <td>1.000000</td>\n",
       "      <td>0.133339</td>\n",
       "      <td>NaN</td>\n",
       "      <td>NaN</td>\n",
       "      <td>0.035461</td>\n",
       "    </tr>\n",
       "    <tr>\n",
       "      <th>nforum_posts</th>\n",
       "      <td>NaN</td>\n",
       "      <td>0.064513</td>\n",
       "      <td>0.065524</td>\n",
       "      <td>0.076593</td>\n",
       "      <td>0.022356</td>\n",
       "      <td>0.087138</td>\n",
       "      <td>0.102466</td>\n",
       "      <td>0.075744</td>\n",
       "      <td>0.133339</td>\n",
       "      <td>1.000000</td>\n",
       "      <td>NaN</td>\n",
       "      <td>NaN</td>\n",
       "      <td>-0.022356</td>\n",
       "    </tr>\n",
       "    <tr>\n",
       "      <th>roles</th>\n",
       "      <td>NaN</td>\n",
       "      <td>NaN</td>\n",
       "      <td>NaN</td>\n",
       "      <td>NaN</td>\n",
       "      <td>NaN</td>\n",
       "      <td>NaN</td>\n",
       "      <td>NaN</td>\n",
       "      <td>NaN</td>\n",
       "      <td>NaN</td>\n",
       "      <td>NaN</td>\n",
       "      <td>NaN</td>\n",
       "      <td>NaN</td>\n",
       "      <td>NaN</td>\n",
       "    </tr>\n",
       "    <tr>\n",
       "      <th>incomplete_flag</th>\n",
       "      <td>NaN</td>\n",
       "      <td>NaN</td>\n",
       "      <td>NaN</td>\n",
       "      <td>NaN</td>\n",
       "      <td>NaN</td>\n",
       "      <td>NaN</td>\n",
       "      <td>NaN</td>\n",
       "      <td>NaN</td>\n",
       "      <td>NaN</td>\n",
       "      <td>NaN</td>\n",
       "      <td>NaN</td>\n",
       "      <td>NaN</td>\n",
       "      <td>NaN</td>\n",
       "    </tr>\n",
       "    <tr>\n",
       "      <th>age</th>\n",
       "      <td>NaN</td>\n",
       "      <td>0.006711</td>\n",
       "      <td>0.004783</td>\n",
       "      <td>0.000931</td>\n",
       "      <td>-1.000000</td>\n",
       "      <td>0.042212</td>\n",
       "      <td>0.058725</td>\n",
       "      <td>0.041638</td>\n",
       "      <td>0.035461</td>\n",
       "      <td>-0.022356</td>\n",
       "      <td>NaN</td>\n",
       "      <td>NaN</td>\n",
       "      <td>1.000000</td>\n",
       "    </tr>\n",
       "  </tbody>\n",
       "</table>\n",
       "</div>"
      ],
      "text/plain": [
       "                 registered    viewed  explored  certified       YoB  \\\n",
       "registered              NaN       NaN       NaN        NaN       NaN   \n",
       "viewed                  NaN  1.000000  0.219908   0.121460 -0.006711   \n",
       "explored                NaN  0.219908  1.000000   0.504517 -0.004783   \n",
       "certified               NaN  0.121460  0.504517   1.000000 -0.000931   \n",
       "YoB                     NaN -0.006711 -0.004783  -0.000931  1.000000   \n",
       "nevents                 NaN  0.151474  0.453486   0.496904 -0.042212   \n",
       "ndays_act               NaN  0.194616  0.545108   0.551765 -0.058725   \n",
       "nplay_video             NaN  0.001522  0.416503   0.366351 -0.041638   \n",
       "nchapters               NaN  0.021805  0.757574   0.579548 -0.035461   \n",
       "nforum_posts            NaN  0.064513  0.065524   0.076593  0.022356   \n",
       "roles                   NaN       NaN       NaN        NaN       NaN   \n",
       "incomplete_flag         NaN       NaN       NaN        NaN       NaN   \n",
       "age                     NaN  0.006711  0.004783   0.000931 -1.000000   \n",
       "\n",
       "                  nevents  ndays_act  nplay_video  nchapters  nforum_posts  \\\n",
       "registered            NaN        NaN          NaN        NaN           NaN   \n",
       "viewed           0.151474   0.194616     0.001522   0.021805      0.064513   \n",
       "explored         0.453486   0.545108     0.416503   0.757574      0.065524   \n",
       "certified        0.496904   0.551765     0.366351   0.579548      0.076593   \n",
       "YoB             -0.042212  -0.058725    -0.041638  -0.035461      0.022356   \n",
       "nevents          1.000000   0.718681     0.814174   0.444501      0.087138   \n",
       "ndays_act        0.718681   1.000000     0.625898   0.607456      0.102466   \n",
       "nplay_video      0.814174   0.625898     1.000000   0.500819      0.075744   \n",
       "nchapters        0.444501   0.607456     0.500819   1.000000      0.133339   \n",
       "nforum_posts     0.087138   0.102466     0.075744   0.133339      1.000000   \n",
       "roles                 NaN        NaN          NaN        NaN           NaN   \n",
       "incomplete_flag       NaN        NaN          NaN        NaN           NaN   \n",
       "age              0.042212   0.058725     0.041638   0.035461     -0.022356   \n",
       "\n",
       "                 roles  incomplete_flag       age  \n",
       "registered         NaN              NaN       NaN  \n",
       "viewed             NaN              NaN  0.006711  \n",
       "explored           NaN              NaN  0.004783  \n",
       "certified          NaN              NaN  0.000931  \n",
       "YoB                NaN              NaN -1.000000  \n",
       "nevents            NaN              NaN  0.042212  \n",
       "ndays_act          NaN              NaN  0.058725  \n",
       "nplay_video        NaN              NaN  0.041638  \n",
       "nchapters          NaN              NaN  0.035461  \n",
       "nforum_posts       NaN              NaN -0.022356  \n",
       "roles              NaN              NaN       NaN  \n",
       "incomplete_flag    NaN              NaN       NaN  \n",
       "age                NaN              NaN  1.000000  "
      ]
     },
     "execution_count": 143,
     "metadata": {},
     "output_type": "execute_result"
    }
   ],
   "source": [
    "df.corr()"
   ]
  },
  {
   "cell_type": "markdown",
   "metadata": {},
   "source": [
    "### Hypothesis testing"
   ]
  },
  {
   "cell_type": "code",
   "execution_count": 144,
   "metadata": {},
   "outputs": [
    {
     "name": "stdout",
     "output_type": "stream",
     "text": [
      "Null Hypothesis: Age has no impact on retention\n",
      "\n",
      "\n",
      "non_persisters_age mean value: 28.677\n",
      "persisters_age mean value: 28.855\n",
      "\n",
      "\n",
      "non_persisters_age std value: 9.316795103467715\n",
      "persisters_age std value: 9.027290568049752\n",
      "\n",
      "\n",
      "p-value 0.6645689550933813\n",
      "\n",
      "\n",
      "We accept null hypothesis\n"
     ]
    }
   ],
   "source": [
    "#Hypothesis testing: Age has no impact on retention\n",
    "print(\"Null Hypothesis: Age has no impact on retention\")\n",
    "print(\"\\n\")\n",
    "#drop age na.\n",
    "df_age_hypo_test = df.dropna(subset=['age'])\n",
    "\n",
    "#random sample of 1000 students who have persisted\n",
    "persisters_age =np.asarray(df_age_hypo_test[df_age_hypo_test['certified']==1].sample(1000)['age'])\n",
    "\n",
    "#random sample of 1000 students who have not persisted\n",
    "non_persisters_age =np.asarray(df_age_hypo_test[df_age_hypo_test['certified']!=1].sample(1000)['age'])\n",
    "\n",
    "#non_persisters mean\n",
    "non_persisters_age_mean = np.mean(non_persisters_age)\n",
    "#persisters mean\n",
    "persisters_age_mean = np.mean(persisters_age)\n",
    "\n",
    "#non_persisters std\n",
    "non_persisters_age_std = np.std(non_persisters_age)\n",
    "#persisters std\n",
    "persisters_age_std = np.std(persisters_age)\n",
    "\n",
    "ttest,pval = ttest_ind(non_persisters_age,persisters_age)\n",
    "\n",
    "\n",
    "print(\"non_persisters_age mean value:\",non_persisters_age_mean)\n",
    "print(\"persisters_age mean value:\",persisters_age_mean)\n",
    "print(\"\\n\")\n",
    "\n",
    "print(\"non_persisters_age std value:\",non_persisters_age_std)\n",
    "print(\"persisters_age std value:\",persisters_age_std)\n",
    "\n",
    "print(\"\\n\")\n",
    "\n",
    "print(\"p-value\",pval)\n",
    "\n",
    "print(\"\\n\")\n",
    "\n",
    "if pval <0.05:\n",
    "  print(\"We reject null hypothesis\")\n",
    "else:\n",
    "  print(\"We accept null hypothesis\")"
   ]
  },
  {
   "cell_type": "code",
   "execution_count": 145,
   "metadata": {},
   "outputs": [
    {
     "name": "stdout",
     "output_type": "stream",
     "text": [
      "Null Hypothesis: Gender has no impact on retention\n",
      "\n",
      "\n",
      "non_persisters_gender mean value: 0.681\n",
      "persisters_gender mean value: 0.667\n",
      "\n",
      "\n",
      "non_persisters_gender std value: 0.4660890472860309\n",
      "persisters_age std value: 0.4712865370451398\n",
      "\n",
      "\n",
      "p-value 0.5044767182978747\n",
      "\n",
      "\n",
      "We accept null hypothesis\n"
     ]
    },
    {
     "name": "stderr",
     "output_type": "stream",
     "text": [
      "/Users/pshetty/anaconda3/lib/python3.6/site-packages/pandas/core/generic.py:6786: SettingWithCopyWarning: \n",
      "A value is trying to be set on a copy of a slice from a DataFrame\n",
      "\n",
      "See the caveats in the documentation: http://pandas.pydata.org/pandas-docs/stable/user_guide/indexing.html#returning-a-view-versus-a-copy\n",
      "  self._update_inplace(new_data)\n"
     ]
    }
   ],
   "source": [
    "#Hypothesis testing: Gender has no impact on retention\n",
    "print(\"Null Hypothesis: Gender has no impact on retention\")\n",
    "print(\"\\n\")\n",
    "#drop age na.\n",
    "df_gender_hypo_test = df.dropna(subset=['gender'])\n",
    "df_gender_hypo_test[\"gender\"].replace({\"m\": 1, \"f\": 0, \"o\": 0}, inplace=True)\n",
    "\n",
    "#random sample of 1000 students who have persisted\n",
    "persisters_gender =np.asarray(df_gender_hypo_test[df_gender_hypo_test['certified']==1].sample(1000)['gender'])\n",
    "\n",
    "#random sample of 1000 students who have not persisted\n",
    "non_persisters_gender =np.asarray(df_gender_hypo_test[df_gender_hypo_test['certified']!=1].sample(1000)['gender'])\n",
    "\n",
    "#non_persisters mean\n",
    "non_persisters_gender_mean = np.mean(non_persisters_gender)\n",
    "#persisters mean\n",
    "persisters_gender_mean = np.mean(persisters_gender)\n",
    "\n",
    "#non_persisters std\n",
    "non_persisters_gender_std = np.std(non_persisters_gender)\n",
    "#persisters std\n",
    "persisters_gender_std = np.std(persisters_gender)\n",
    "\n",
    "ttest,pval = ttest_ind(non_persisters_gender,persisters_gender)\n",
    "\n",
    "\n",
    "print(\"non_persisters_gender mean value:\",non_persisters_gender_mean)\n",
    "print(\"persisters_gender mean value:\",persisters_gender_mean)\n",
    "print(\"\\n\")\n",
    "\n",
    "print(\"non_persisters_gender std value:\",non_persisters_gender_std)\n",
    "print(\"persisters_age std value:\",persisters_gender_std)\n",
    "\n",
    "print(\"\\n\")\n",
    "\n",
    "print(\"p-value\",pval)\n",
    "\n",
    "print(\"\\n\")\n",
    "\n",
    "if pval <0.05:\n",
    "  print(\"We reject null hypothesis\")\n",
    "else:\n",
    "  print(\"We accept null hypothesis\")"
   ]
  },
  {
   "cell_type": "code",
   "execution_count": 146,
   "metadata": {},
   "outputs": [
    {
     "name": "stdout",
     "output_type": "stream",
     "text": [
      "Null Hypothesis: Activities or events has no impact on retention\n",
      "\n",
      "\n",
      "non_persisters_events mean value: 164.787\n",
      "persisters_events mean value: 2546.315\n",
      "\n",
      "\n",
      "non_persisters_events std value: 801.2754155912934\n",
      "persisters_events std value: 3001.605117562102\n",
      "\n",
      "\n",
      "p-value 6.4769614041372354e-114\n",
      "\n",
      "\n",
      "We reject null hypothesis\n"
     ]
    }
   ],
   "source": [
    "#Hypothesis testing: events has no impact on retention\n",
    "print(\"Null Hypothesis: Activities or events has no impact on retention\")\n",
    "print(\"\\n\")\n",
    "#drop events na.\n",
    "df_events_hypo_test = df.dropna(subset=['nevents'])\n",
    "\n",
    "#random sample of 1000 students who have persisted\n",
    "persisters_events =np.asarray(df_events_hypo_test[df_events_hypo_test['certified']==1].sample(1000)['nevents'])\n",
    "\n",
    "#random sample of 1000 students who have not persisted\n",
    "non_persisters_events =np.asarray(df_events_hypo_test[df_events_hypo_test['certified']!=1].sample(1000)['nevents'])\n",
    "\n",
    "#non_persisters mean\n",
    "non_persisters_events_mean = np.mean(non_persisters_events)\n",
    "#persisters mean\n",
    "persisters_events_mean = np.mean(persisters_events)\n",
    "\n",
    "#non_persisters std\n",
    "non_persisters_events_std = np.std(non_persisters_events)\n",
    "#persisters std\n",
    "persisters_events_std = np.std(persisters_events)\n",
    "\n",
    "ttest,pval = ttest_ind(non_persisters_events,persisters_events)\n",
    "\n",
    "\n",
    "print(\"non_persisters_events mean value:\",non_persisters_events_mean)\n",
    "print(\"persisters_events mean value:\",persisters_events_mean)\n",
    "print(\"\\n\")\n",
    "\n",
    "print(\"non_persisters_events std value:\",non_persisters_events_std)\n",
    "print(\"persisters_events std value:\",persisters_events_std)\n",
    "\n",
    "print(\"\\n\")\n",
    "\n",
    "print(\"p-value\",pval)\n",
    "\n",
    "print(\"\\n\")\n",
    "\n",
    "if pval <0.05:\n",
    "  print(\"We reject null hypothesis\")\n",
    "else:\n",
    "  print(\"We accept null hypothesis\")"
   ]
  },
  {
   "cell_type": "code",
   "execution_count": 147,
   "metadata": {},
   "outputs": [
    {
     "name": "stdout",
     "output_type": "stream",
     "text": [
      "Null Hypothesis: grades have no impact on retention\n",
      "\n",
      "\n",
      "non_persisters_grade mean value: 0.00552\n",
      "persisters_grade mean value: 0.8745899999999999\n",
      "\n",
      "\n",
      "non_persisters_grade std value: 0.03898883942873909\n",
      "persisters_grade std value: 0.12749522304776756\n",
      "\n",
      "\n",
      "p-value 0.0\n",
      "\n",
      "\n",
      "We reject null hypothesis\n"
     ]
    }
   ],
   "source": [
    "#Hypothesis testing: grades has no impact on retention\n",
    "print(\"Null Hypothesis: grades have no impact on retention\")\n",
    "print(\"\\n\")\n",
    "#drop events na.\n",
    "df_grade_hypo_test = df.dropna(subset=['grade'])\n",
    "\n",
    "#random sample of 1000 students who have persisted\n",
    "persisters_grade =np.asarray(df_grade_hypo_test[df_grade_hypo_test['certified']==1].sample(1000)['grade'])\n",
    "\n",
    "#random sample of 1000 students who have not persisted\n",
    "non_persisters_grade =np.asarray(df_grade_hypo_test[df_grade_hypo_test['certified']!=1].sample(1000)['grade'])\n",
    "\n",
    "#replace ' ' with '0'\n",
    "non_persisters_grade = np.where(non_persisters_grade==' ', '0', non_persisters_grade)\n",
    "# change datatype to float\n",
    "non_persisters_grade = non_persisters_grade.astype(np.float)\n",
    "\n",
    "#non_persisters mean\n",
    "non_persisters_grade_mean = np.mean(non_persisters_grade)\n",
    "\n",
    "\n",
    "#replace ' ' with '0'\n",
    "persisters_grade = np.where(persisters_grade==' ', '0', persisters_grade)\n",
    "# change datatype to float\n",
    "persisters_grade = persisters_grade.astype(np.float)\n",
    "\n",
    "#persisters mean\n",
    "persisters_grade_mean = np.mean(persisters_grade)\n",
    "\n",
    "#non_persisters std\n",
    "non_persisters_grade_std = np.std(non_persisters_grade)\n",
    "#persisters std\n",
    "persisters_grade_std = np.std(persisters_grade)\n",
    "\n",
    "ttest,pval = ttest_ind(non_persisters_grade,persisters_grade)\n",
    "\n",
    "\n",
    "print(\"non_persisters_grade mean value:\",non_persisters_grade_mean)\n",
    "print(\"persisters_grade mean value:\",persisters_grade_mean)\n",
    "print(\"\\n\")\n",
    "\n",
    "print(\"non_persisters_grade std value:\",non_persisters_grade_std)\n",
    "print(\"persisters_grade std value:\",persisters_grade_std)\n",
    "\n",
    "print(\"\\n\")\n",
    "\n",
    "print(\"p-value\",pval)\n",
    "\n",
    "print(\"\\n\")\n",
    "\n",
    "if pval <0.05:\n",
    "  print(\"We reject null hypothesis\")\n",
    "else:\n",
    "  print(\"We accept null hypothesis\")\n"
   ]
  },
  {
   "cell_type": "markdown",
   "metadata": {},
   "source": [
    "### Preprocess data"
   ]
  },
  {
   "cell_type": "markdown",
   "metadata": {},
   "source": [
    "#### 1. Handle NAs and nulls"
   ]
  },
  {
   "cell_type": "code",
   "execution_count": 148,
   "metadata": {},
   "outputs": [
    {
     "data": {
      "text/plain": [
       "(290948, 19)"
      ]
     },
     "execution_count": 148,
     "metadata": {},
     "output_type": "execute_result"
    }
   ],
   "source": [
    "X =df.copy()\n",
    "# drop these columns as they are sparse.\n",
    "X.drop(columns=['roles', 'incomplete_flag','age_bucket'],inplace=True)\n",
    "\n",
    "# replace 'NaN' with zero for these columns\n",
    "cols_fillna = ['grade','nevents','ndays_act','nplay_video','nchapters','nforum_posts']\n",
    "for col in cols_fillna:\n",
    "    X[col].fillna(0,inplace=True)\n",
    "\n",
    "# impute column last_event_DI. If it's blank, replace with start_time_DI\n",
    "X['last_event_DI'] = np.where(X['last_event_DI'].isnull(), X['start_time_DI'], X['last_event_DI'])\n",
    "\n",
    "#drop rows with na values. At this point the records that will get dropped are minimal\n",
    "X.dropna(inplace=True)\n",
    "X.shape"
   ]
  },
  {
   "cell_type": "markdown",
   "metadata": {},
   "source": [
    "#### 2. Transform data, handle categorical variables"
   ]
  },
  {
   "cell_type": "code",
   "execution_count": 149,
   "metadata": {},
   "outputs": [],
   "source": [
    "# data transformation\n",
    "# Create a new column which is the difference of last_event_DI and start_time_DI. We can then \n",
    "# drop start_time_DI and last_event_DI\n",
    "X['last_event'] = (X['last_event_DI'].astype('datetime64[ns]') - X['start_time_DI'].astype('datetime64[ns]')).astype(int)\n",
    "X['last_event'] = X['last_event']/100000000000000.0\n",
    "\n",
    "#drop start_time_DI and last_event_DI\n",
    "X.drop(columns=['start_time_DI', 'last_event_DI'],inplace=True)\n",
    "\n",
    "#encode categorical values using \"label encoding\"\n",
    "#https://www.datacamp.com/community/tutorials/categorical-data\n",
    "X['course_id'] = X['course_id'].astype('category')\n",
    "X['course_id'] = X['course_id'].cat.codes\n",
    "\n",
    "X['final_cc_cname_DI'] = X['final_cc_cname_DI'].astype('category')\n",
    "X['final_cc_cname_DI'] = X['final_cc_cname_DI'].cat.codes\n",
    "\n",
    "X['gender'] = X['gender'].astype('category')\n",
    "X['gender'] = X['gender'].cat.codes\n",
    "\n",
    "X['LoE_DI'] = X['LoE_DI'].astype('category')\n",
    "X['LoE_DI'] = X['LoE_DI'].cat.codes\n",
    "\n",
    "#update userid to remove strings\n",
    "X['userid_DI'] = X['userid_DI'].str.slice(start=5)\n",
    "\n",
    "#change ' ' values in grade column to 0\n",
    "X['grade'] = np.where(X['grade'] ==' ', '0', X['grade'])\n",
    "\n",
    "#change datatype to int\n",
    "X['userid_DI'] = X['userid_DI'].astype('int')\n",
    "X['grade'] = X['grade'].astype('float')"
   ]
  },
  {
   "cell_type": "code",
   "execution_count": 150,
   "metadata": {},
   "outputs": [
    {
     "name": "stdout",
     "output_type": "stream",
     "text": [
      "<class 'pandas.core.frame.DataFrame'>\n",
      "Int64Index: 290948 entries, 1880 to 338221\n",
      "Data columns (total 18 columns):\n",
      "course_id            290948 non-null int8\n",
      "userid_DI            290948 non-null int64\n",
      "registered           290948 non-null int64\n",
      "viewed               290948 non-null int64\n",
      "explored             290948 non-null int64\n",
      "certified            290948 non-null int64\n",
      "final_cc_cname_DI    290948 non-null int8\n",
      "LoE_DI               290948 non-null int8\n",
      "YoB                  290948 non-null float64\n",
      "gender               290948 non-null int8\n",
      "grade                290948 non-null float64\n",
      "nevents              290948 non-null float64\n",
      "ndays_act            290948 non-null float64\n",
      "nplay_video          290948 non-null float64\n",
      "nchapters            290948 non-null float64\n",
      "nforum_posts         290948 non-null int64\n",
      "age                  290948 non-null float64\n",
      "last_event           290948 non-null float64\n",
      "dtypes: float64(8), int64(6), int8(4)\n",
      "memory usage: 34.4 MB\n"
     ]
    }
   ],
   "source": [
    "X.info()"
   ]
  },
  {
   "cell_type": "code",
   "execution_count": 151,
   "metadata": {},
   "outputs": [],
   "source": [
    "#get the target\n",
    "y = X.pop('certified')"
   ]
  },
  {
   "cell_type": "markdown",
   "metadata": {},
   "source": [
    "#### 3. Handle imbalanced dataset"
   ]
  },
  {
   "cell_type": "code",
   "execution_count": 152,
   "metadata": {},
   "outputs": [],
   "source": [
    "#counter = Counter(y)\n",
    "#print(counter)\n",
    "#print(\"Event Rate\", round(5728/285220,3))\n",
    "#Balance dataset\n",
    "#https://www.analyticsvidhya.com/blog/2017/03/imbalanced-data-classification/\n",
    "#https://machinelearningmastery.com/smote-oversampling-for-imbalanced-classification/\n",
    "#oversample = SMOTE()\n",
    "#X, y = oversample.fit_resample(X, y)\n",
    "# summarize the new class distribution\n",
    "#counter = Counter(y)\n",
    "#print(counter)\n",
    "#print(\"New event Rate\", round(285220/285220,3))"
   ]
  },
  {
   "cell_type": "code",
   "execution_count": 153,
   "metadata": {},
   "outputs": [],
   "source": [
    "X_scaled = preprocessing.scale(X)"
   ]
  },
  {
   "cell_type": "code",
   "execution_count": 154,
   "metadata": {},
   "outputs": [
    {
     "data": {
      "text/plain": [
       "array([[-1.45885606, -1.32605908,  0.        , ..., -0.07585254,\n",
       "        -1.0352413 , -0.03368992],\n",
       "       [-1.45885606, -1.06693833,  0.        , ..., -0.07585254,\n",
       "        -0.61923654,  0.40176713],\n",
       "       [-1.45885606, -1.0189588 ,  0.        , ..., -0.07585254,\n",
       "         0.62877776, -0.48275501],\n",
       "       ...,\n",
       "       [ 1.9571475 ,  0.76619956,  0.        , ..., -0.07585254,\n",
       "        -0.61923654, -0.29224255],\n",
       "       [ 1.9571475 , -1.70586176,  0.        , ..., -0.07585254,\n",
       "        -0.41123415, -0.48275501],\n",
       "       [ 1.9571475 ,  0.51928957,  0.        , ..., -0.07585254,\n",
       "        -0.20323177, -0.48275501]])"
      ]
     },
     "execution_count": 154,
     "metadata": {},
     "output_type": "execute_result"
    }
   ],
   "source": [
    "X_scaled"
   ]
  },
  {
   "cell_type": "code",
   "execution_count": 155,
   "metadata": {},
   "outputs": [],
   "source": [
    "#store column names\n",
    "feature_columns =['course_id', 'userid_DI', 'registered'\n",
    "          , 'viewed', 'explored', 'final_cc_cname_DI'\n",
    "          , 'LoE_DI', 'YoB', 'gender', 'grade', 'nevents', 'ndays_act'\n",
    "          , 'nplay_video', 'nchapters', 'nforum_posts', 'last_event']\n",
    "#get training and test data\n",
    "x_train, x_test, y_train, y_test = train_test_split(X_scaled, y, test_size=0.5, random_state=0)"
   ]
  },
  {
   "cell_type": "markdown",
   "metadata": {},
   "source": [
    "### ML models"
   ]
  },
  {
   "cell_type": "markdown",
   "metadata": {},
   "source": [
    "#### 1.Logistic Regression"
   ]
  },
  {
   "cell_type": "code",
   "execution_count": 156,
   "metadata": {},
   "outputs": [
    {
     "name": "stdout",
     "output_type": "stream",
     "text": [
      "Logistic Regression:\n",
      "Accuracy  0.99855\n",
      "Recall 0.9857\n",
      "Precision 0.9766\n"
     ]
    }
   ],
   "source": [
    "logisticRegr = LogisticRegression()\n",
    "logisticRegr.fit(x_train, y_train)\n",
    "y_pred = logisticRegr.predict(x_test)\n",
    "# Use score method to get accuracy of model\n",
    "score = logisticRegr.score(x_test, y_test)\n",
    "print(\"Logistic Regression:\")\n",
    "print(\"Accuracy \",round(score,5))\n",
    "print(\"Recall\",round(recall_score(y_test, y_pred, average='macro'),5))\n",
    "print(\"Precision\",round(precision_score(y_test, y_pred, average='macro'),5)) "
   ]
  },
  {
   "cell_type": "code",
   "execution_count": 157,
   "metadata": {},
   "outputs": [
    {
     "data": {
      "text/plain": [
       "(142521, 133, 78, 2742)"
      ]
     },
     "execution_count": 157,
     "metadata": {},
     "output_type": "execute_result"
    }
   ],
   "source": [
    "tn, fp, fn, tp = confusion_matrix(y_test, y_pred, labels=None, sample_weight=None, normalize=None).ravel()\n",
    "(tn, fp, fn, tp)"
   ]
  },
  {
   "cell_type": "code",
   "execution_count": 158,
   "metadata": {},
   "outputs": [
    {
     "name": "stdout",
     "output_type": "stream",
     "text": [
      "Top 5 Logistic Regression features based on feature coefficients:\n"
     ]
    },
    {
     "data": {
      "text/plain": [
       "['grade', 'viewed', 'explored', 'final_cc_cname_DI', 'nevents']"
      ]
     },
     "execution_count": 158,
     "metadata": {},
     "output_type": "execute_result"
    }
   ],
   "source": [
    "# Get the top 5 features based on feature coefficients\n",
    "#https://stackoverflow.com/questions/34649969/how-to-find-the-features-names-of-the-coefficients-using-scikit-linear-regressio\n",
    "coef_dict = {}\n",
    "for coef, feat in zip(logisticRegr.coef_[0,:],feature_columns):\n",
    "    coef_dict[feat] = coef\n",
    "print(\"Top 5 Logistic Regression features based on feature coefficients:\")\n",
    "sorted(coef_dict, key=lambda dict_key: abs(coef_dict[dict_key]), reverse=True)[:5]"
   ]
  },
  {
   "cell_type": "markdown",
   "metadata": {},
   "source": [
    "#### 2.Random Forest"
   ]
  },
  {
   "cell_type": "code",
   "execution_count": 159,
   "metadata": {},
   "outputs": [
    {
     "name": "stdout",
     "output_type": "stream",
     "text": [
      "RandomForest Classifier:\n",
      "Accuracy  0.99997\n",
      "Recall 0.99946\n",
      "Precision 0.99981\n"
     ]
    }
   ],
   "source": [
    "randomClassifier = RandomForestClassifier(n_estimators=100, \n",
    "                               random_state=50, \n",
    "                               max_features = 'sqrt',\n",
    "                               n_jobs=-1)\n",
    "randomClassifier.fit(x_train, y_train)\n",
    "y_pred = randomClassifier.predict(x_test)\n",
    "# Use score method to get accuracy of model\n",
    "score = randomClassifier.score(x_test, y_test)\n",
    "print(\"RandomForest Classifier:\")\n",
    "print(\"Accuracy \",round(score,5))\n",
    "print(\"Recall\",round(recall_score(y_test, y_pred, average='macro'),5))\n",
    "print(\"Precision\",round(precision_score(y_test, y_pred, average='macro'),5))"
   ]
  },
  {
   "cell_type": "code",
   "execution_count": 160,
   "metadata": {},
   "outputs": [
    {
     "name": "stdout",
     "output_type": "stream",
     "text": [
      "Top 5 Random Forest features based on feature importance:\n"
     ]
    },
    {
     "data": {
      "text/plain": [
       "['grade', 'nevents', 'nchapters', 'ndays_act', 'explored']"
      ]
     },
     "execution_count": 160,
     "metadata": {},
     "output_type": "execute_result"
    }
   ],
   "source": [
    "# Get the top 5 features\n",
    "rf_feat_imp = randomClassifier.feature_importances_\n",
    "rf_feat_imp = np.reshape(rf_feat_imp, (1,17))\n",
    "\n",
    "coef_dict = {}\n",
    "for coef, feat in zip(rf_feat_imp[0,:],feature_columns):\n",
    "    coef_dict[feat] = coef\n",
    "print(\"Top 5 Random Forest features based on feature importance:\")\n",
    "sorted(coef_dict, key=lambda dict_key: abs(coef_dict[dict_key]), reverse=True)[:5]"
   ]
  },
  {
   "cell_type": "markdown",
   "metadata": {},
   "source": [
    "#### 3. Support Vector Machine(SVM)"
   ]
  },
  {
   "cell_type": "code",
   "execution_count": 161,
   "metadata": {},
   "outputs": [
    {
     "name": "stdout",
     "output_type": "stream",
     "text": [
      "SVM(Support Vector Machine) Classifier:\n",
      "Accuracy  0.99863\n",
      "Recall 0.98731\n",
      "Precision 0.97703\n"
     ]
    }
   ],
   "source": [
    "svmClassifier = svm.SVC(kernel='linear')\n",
    "svmClassifier.fit(x_train, y_train)\n",
    "y_pred = svmClassifier.predict(x_test)\n",
    "# Use score method to get accuracy of model\n",
    "score = svmClassifier.score(x_test, y_test)\n",
    "print(\"SVM(Support Vector Machine) Classifier:\")\n",
    "print(\"Accuracy \",round(score,5))\n",
    "print(\"Recall\",round(recall_score(y_test, y_pred, average='macro'),5))\n",
    "print(\"Precision\",round(precision_score(y_test, y_pred, average='macro'),5))"
   ]
  },
  {
   "cell_type": "code",
   "execution_count": 162,
   "metadata": {},
   "outputs": [
    {
     "name": "stdout",
     "output_type": "stream",
     "text": [
      "Top 5 SVM(Support Vector Machine):\n"
     ]
    },
    {
     "data": {
      "text/plain": [
       "['grade', 'explored', 'course_id', 'nevents', 'final_cc_cname_DI']"
      ]
     },
     "execution_count": 162,
     "metadata": {},
     "output_type": "execute_result"
    }
   ],
   "source": [
    "# Get the top 5 features for SVM\n",
    "coef_dict = {}\n",
    "for coef, feat in zip(svmClassifier.coef_[0,:],feature_columns):\n",
    "    coef_dict[feat] = coef\n",
    "print(\"Top 5 SVM(Support Vector Machine):\")\n",
    "sorted(coef_dict, key=lambda dict_key: abs(coef_dict[dict_key]), reverse=True)[:5]"
   ]
  },
  {
   "cell_type": "markdown",
   "metadata": {},
   "source": [
    "#### 4. XGBoost"
   ]
  },
  {
   "cell_type": "code",
   "execution_count": 163,
   "metadata": {},
   "outputs": [
    {
     "name": "stdout",
     "output_type": "stream",
     "text": [
      "XGBoost Classifier:\n",
      "Accuracy  1.0\n",
      "Recall 1.0\n",
      "Precision 1.0\n"
     ]
    }
   ],
   "source": [
    "xgboostClassifier = XGBClassifier()\n",
    "xgboostClassifier.fit(x_train, y_train)\n",
    "y_pred = xgboostClassifier.predict(x_test)\n",
    "# Use score method to get accuracy of model\n",
    "score = xgboostClassifier.score(x_test, y_test)\n",
    "print(\"XGBoost Classifier:\")\n",
    "print(\"Accuracy \",round(score,10))\n",
    "print(\"Recall\",round(recall_score(y_test, y_pred, average='macro'),10))\n",
    "print(\"Precision\",round(precision_score(y_test, y_pred, average='macro'),10))"
   ]
  },
  {
   "cell_type": "code",
   "execution_count": 164,
   "metadata": {},
   "outputs": [
    {
     "name": "stdout",
     "output_type": "stream",
     "text": [
      "Top 5 XGBoost features:\n"
     ]
    },
    {
     "data": {
      "text/plain": [
       "['grade', 'course_id', 'nevents', 'nchapters', 'nplay_video']"
      ]
     },
     "execution_count": 164,
     "metadata": {},
     "output_type": "execute_result"
    }
   ],
   "source": [
    "# Get the top 5 features for SVM\n",
    "xgboost_feat_imp = xgboostClassifier.feature_importances_\n",
    "xgboost_feat_imp = np.reshape(xgboost_feat_imp, (1,17))\n",
    "\n",
    "coef_dict = {}\n",
    "for coef, feat in zip(xgboost_feat_imp[0,:],feature_columns):\n",
    "    coef_dict[feat] = coef\n",
    "print(\"Top 5 XGBoost features:\")\n",
    "sorted(coef_dict, key=lambda dict_key: abs(coef_dict[dict_key]), reverse=True)[:5]"
   ]
  },
  {
   "cell_type": "code",
   "execution_count": 165,
   "metadata": {},
   "outputs": [
    {
     "name": "stdout",
     "output_type": "stream",
     "text": [
      "Logistic Regression:\n",
      "Accuracy  0.99855\n",
      "Recall 0.9857\n",
      "Precision 0.9766\n"
     ]
    }
   ],
   "source": [
    "logisticRegr = LogisticRegression()\n",
    "logisticRegr.fit(x_train, y_train)\n",
    "y_pred = logisticRegr.predict(x_test)\n",
    "# Use score method to get accuracy of model\n",
    "score = logisticRegr.score(x_test, y_test)\n",
    "print(\"Logistic Regression:\")\n",
    "print(\"Accuracy \",round(score,5))\n",
    "print(\"Recall\",round(recall_score(y_test, y_pred, average='macro'),5))\n",
    "print(\"Precision\",round(precision_score(y_test, y_pred, average='macro'),5)) \n",
    "\n",
    "\n",
    "\n"
   ]
  },
  {
   "cell_type": "markdown",
   "metadata": {},
   "source": [
    "### Test results using 5 fold cross validation"
   ]
  },
  {
   "cell_type": "code",
   "execution_count": null,
   "metadata": {},
   "outputs": [],
   "source": [
    "\n",
    "scoring = {'accuracy' : make_scorer(accuracy_score), \n",
    "           'precision' : make_scorer(precision_score),\n",
    "           'recall' : make_scorer(recall_score), \n",
    "           'f1_score' : make_scorer(f1_score)}\n",
    "\n",
    "kfold = KFold(n_splits=5)\n",
    "logisticRegr =LogisticRegression()#RandomForestClassifier(n_estimators=50) \n",
    "randomClassifier = RandomForestClassifier(n_estimators=100, \n",
    "                               random_state=50, \n",
    "                               max_features = 'sqrt',\n",
    "                               n_jobs=-1)\n",
    "svmClassifier = svm.SVC(kernel='linear')\n",
    "xgboostClassifier = XGBClassifier()\n",
    "\n",
    "logistic_results = cross_validate(estimator=logisticRegr,\n",
    "                                          X=X_scaled,\n",
    "                                          y=y,\n",
    "                                          cv=kfold,\n",
    "                                          scoring=scoring)\n",
    "\n",
    "RF_results = cross_validate(estimator=randomClassifier,\n",
    "                                          X=X_scaled,\n",
    "                                          y=y,\n",
    "                                          cv=kfold,\n",
    "                                          scoring=scoring)\n",
    "\n",
    "SVM_results = cross_validate(estimator=svmClassifier,\n",
    "                                          X=X_scaled,\n",
    "                                          y=y,\n",
    "                                          cv=kfold,\n",
    "                                          scoring=scoring)\n",
    "\n",
    "XGBoost_results = cross_validate(estimator=xgboostClassifier,\n",
    "                                          X=X_scaled,\n",
    "                                          y=y,\n",
    "                                          cv=kfold,\n",
    "                                          scoring=scoring)\n",
    "\n"
   ]
  },
  {
   "cell_type": "code",
   "execution_count": null,
   "metadata": {},
   "outputs": [],
   "source": [
    "print(\"Logistic regression cross validation results:\")\n",
    "print(\"Accuracy: \",logistic_results['test_accuracy'].mean())\n",
    "print(\"Precision: \",logistic_results['test_precision'].mean())\n",
    "print(\"Recall: \",logistic_results['test_recall'].mean())\n",
    "print(\"F1_score: \",logistic_results['test_f1_score'].mean())\n",
    "\n",
    "print(\"\\n\")\n",
    "\n",
    "print(\"Random Forest cross validation results:\")\n",
    "print(\"Accuracy: \",RF_results['test_accuracy'].mean())\n",
    "print(\"Precision: \",RF_results['test_precision'].mean())\n",
    "print(\"Recall: \",RF_results['test_recall'].mean())\n",
    "print(\"F1_score: \",RF_results['test_f1_score'].mean())\n",
    "\n",
    "print(\"\\n\\n\")\n",
    "\n",
    "print(\"Support Vector Machines cross validation results:\")\n",
    "print(\"Accuracy: \",SVM_results['test_accuracy'].mean())\n",
    "print(\"Precision: \",SVM_results['test_precision'].mean())\n",
    "print(\"Recall: \",SVM_results['test_recall'].mean())\n",
    "print(\"F1_score: \",SVM_results['test_f1_score'].mean())\n",
    "\n",
    "print(\"\\n\\n\")\n",
    "\n",
    "print(\"XGBoost cross validation results:\")\n",
    "print(\"Accuracy: \",XGBoost_results['test_accuracy'].mean())\n",
    "print(\"Precision: \",XGBoost_results['test_precision'].mean())\n",
    "print(\"Recall: \",XGBoost_results['test_recall'].mean())\n",
    "print(\"F1_score: \",XGBoost_results['test_f1_score'].mean())"
   ]
  },
  {
   "cell_type": "markdown",
   "metadata": {},
   "source": [
    "#### Since we have a imbalanced dataset, ie. the number of students who got certified are far less than students who didn’t certify, we need to make sure the minority class accuracy is correct. Hence we rely on test parameters like precision and recall. F1 score represents both these parameters and hence we use this to evaluate our models.\n",
    "#### Based on F1 score, Random Forest and XGBoost have the best performance in predicting student retention.\n"
   ]
  }
 ],
 "metadata": {
  "kernelspec": {
   "display_name": "Python 3",
   "language": "python",
   "name": "python3"
  },
  "language_info": {
   "codemirror_mode": {
    "name": "ipython",
    "version": 3
   },
   "file_extension": ".py",
   "mimetype": "text/x-python",
   "name": "python",
   "nbconvert_exporter": "python",
   "pygments_lexer": "ipython3",
   "version": "3.6.8"
  }
 },
 "nbformat": 4,
 "nbformat_minor": 2
}
